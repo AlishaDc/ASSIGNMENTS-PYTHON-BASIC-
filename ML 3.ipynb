{
 "cells": [
  {
   "cell_type": "markdown",
   "id": "76e0d0a0",
   "metadata": {},
   "source": [
    "# Q1.\n",
    "Machine learning is a data analytics technique that teaches computers to do what comes naturally to humans and animals: learn from experience. Machine learning algorithms use computational methods to “learn” information directly from data without relying on a predetermined equation as a model.\n",
    "\n",
    "In its application across business problems, machine learning is also referred to as predictive analytics, and use cases include customer churn, credit card fraud, and email spam. ML tasks are learned through available data that were observed through experiences or instructions, which in turn result in better learning.\n",
    "\n",
    "But there are many ethical challenges: Lack of transparency of AI tools: AI decisions are not always intelligible to humans. AI is not neutral: AI-based decisions are susceptible to inaccuracies, discriminatory outcomes, embedded or inserted bias. Surveillance practices for data gathering and privacy of court users."
   ]
  },
  {
   "cell_type": "markdown",
   "id": "192766fb",
   "metadata": {},
   "source": [
    "# Q2.\n",
    "\n",
    "i. Under the supervision of experts\n",
    "\n",
    "ii. With the assistance of experts in an indirect manner\n",
    "\n",
    "iii. Self-education\n",
    "\n",
    "# i. Under the supervision of experts\n",
    "Under supervision, learning is defined by guidance provided to the learner. This guidance or supervision trains the learner to solve certain type of problems. Problems can range from formal communication, to mathematical calculations. Pre-calculated answers provide for rectifications and course correction during learning.\n",
    "\n",
    "# ii. With the assistance of experts in an indirect manner\n",
    "Under indirect assistance, learning is defined by guidance provided to the learner through indirect means. These indirect means can range from books, to periodic advise from experts. This guidance or supervision trains the learner to solve certain type of problems but not as easily as under supervision. Problems can range from formal communication, to mathematical calculations. Expert indirect guidance provide for only limited rectifications and course correction during learning.\n",
    "\n",
    "# iii. Self-education\n",
    "Under no supervision, learning is defined by self guidance provided to the learner by himself. The learner has the entire burden of finding ways to solve certain type of problems. Problems can range from formal communication, to mathematical calculations. Only self-calculated answers provide for rectifications and course correction during learning."
   ]
  },
  {
   "cell_type": "markdown",
   "id": "ad6b4c7e",
   "metadata": {},
   "source": [
    "# Q3.\n",
    "\n",
    "These are three types of machine learning: supervised learning, unsupervised learning, and reinforcement learning."
   ]
  },
  {
   "cell_type": "markdown",
   "id": "5afa300d",
   "metadata": {},
   "source": [
    "# Q4.\n",
    "\n",
    "\n",
    "These are three types of machine learning: supervised learning, unsupervised learning, and reinforcement learning."
   ]
  },
  {
   "cell_type": "markdown",
   "id": "c85eb311",
   "metadata": {},
   "source": [
    "# Q5.\n",
    "\n",
    "A computer program is said to learn from experience E in context to some task T and some performance measure P, if its performance on T, as was measured by P, upgrades with experience E. Any problem can be segregated as well-posed learning problem if it has three traits."
   ]
  },
  {
   "cell_type": "markdown",
   "id": "411094df",
   "metadata": {},
   "source": [
    "# Q6.\n",
    "\n",
    "However, it is important to understand that machine learning is not the answer to all problems. Given the usefulness of machine learning, it can be hard to accept that sometimes it is not the best solution to a problem. There are times when machine learning is the right solution, and times when it is the wrong solution.\n",
    "\n",
    "Ethics : The idea of trusting data and algorithms more than our own judgment has its pros and cons. Obviously, we benefit from these algorithms, otherwise, we wouldn’t be using them in the first place. These algorithms allow us to automate processes by making informed judgments using available data. Sometimes, however, this means replacing someone’s job with an algorithm, which comes with ethical ramifications.\n",
    "\n",
    "Data : Many machine learning algorithms require large amounts of data before they begin to give useful results. A good example of this is a neural network. Neural networks are data-eating machines that require copious amounts of training data. The larger the architecture, the more data is needed to produce viable results. Reusing data is a bad idea, and data augmentation is useful to some extent, but having more data is always the preferred solution.\n",
    "\n",
    "Misapplication : Applying machine learning on deterministic systems will succeed, but the algorithm which not be learning the relationship between the two variables, and will not know when it is violating physical laws. We simply gave some inputs and outputs to the system and told it to learn the relationship like someone translating word for word out of a dictionary, the algorithm will only appear to have a facile grasp of the underlying physics."
   ]
  },
  {
   "cell_type": "markdown",
   "id": "7532c563",
   "metadata": {},
   "source": [
    "# Q7.\n",
    "\n",
    "There are four types of machine learning algorithms: supervised, semi-supervised, unsupervised and reinforcement.\n",
    "\n",
    "Supervised learning In supervised learning, the machine is taught by example. The operator provides the machine learning algorithm with a known dataset that includes desired inputs and outputs, and the algorithm must find a method to determine how to arrive at those inputs and outputs. While the operator knows the correct answers to the problem, the algorithm identifies patterns in data, learns from observations and makes predictions. The algorithm makes predictions and is corrected by the operator – and this process continues until the algorithm achieves a high level of accuracy/performance. Under the umbrella of supervised learning fall: Classification, Regression and Forecasting.\n",
    "\n",
    "a. Classification: In classification tasks, the machine learning program must draw a conclusion from observed values and determine to what category new observations belong. For example, when filtering emails as ‘spam’ or ‘not spam’, the program must look at existing observational data and filter the emails accordingly.\n",
    "\n",
    "b. Regression: In regression tasks, the machine learning program must estimate – and understand – the relationships among variables. Regression analysis focuses on one dependent variable and a series of other changing variables – making it particularly useful for prediction and forecasting.\n",
    "\n",
    "c. Forecasting: Forecasting is the process of making predictions about the future based on the past and present data, and is commonly used to analyse trends.\n",
    "\n",
    "Unsupervised learning Here, the machine learning algorithm studies data to identify patterns. There is no answer key or human operator to provide instruction. Instead, the machine determines the correlations and relationships by analysing available data. In an unsupervised learning process, the machine learning algorithm is left to interpret large data sets and address that data accordingly. The algorithm tries to organise that data in some way to describe its structure. This might mean grouping the data into clusters or arranging it in a way that looks more organised. As it assesses more data, its ability to make decisions on that data gradually improves and becomes more refined. Under the umbrella of unsupervised learning, fall:\n",
    "\n",
    "a. Clustering: Clustering involves grouping sets of similar data (based on defined criteria). It’s useful for segmenting data into several groups and performing analysis on each data set to find patterns. Dimension reduction: Dimension reduction reduces the number of variables being considered to find the exact information required."
   ]
  },
  {
   "cell_type": "markdown",
   "id": "6fe5799d",
   "metadata": {},
   "source": [
    "# Q8.\n",
    "\n",
    "Supervised learning In supervised learning, the machine is taught by example. The operator provides the machine learning algorithm with a known dataset that includes desired inputs and outputs, and the algorithm must find a method to determine how to arrive at those inputs and outputs. While the operator knows the correct answers to the problem, the algorithm identifies patterns in data, learns from observations and makes predictions. The algorithm makes predictions and is corrected by the operator – and this process continues until the algorithm achieves a high level of accuracy/performance. Under the umbrella of supervised learning fall: Classification, Regression and Forecasting.\n",
    "\n",
    "a. Classification: In classification tasks, the machine learning program must draw a conclusion from observed values and determine to what category new observations belong. For example, when filtering emails as ‘spam’ or ‘not spam’, the program must look at existing observational data and filter the emails accordingly.\n",
    "\n",
    "b. Regression: In regression tasks, the machine learning program must estimate – and understand – the relationships among variables. Regression analysis focuses on one dependent variable and a series of other changing variables – making it particularly useful for prediction and forecasting.\n",
    "\n",
    "c. Forecasting: Forecasting is the process of making predictions about the future based on the past and present data, and is commonly used to analyse trends."
   ]
  },
  {
   "cell_type": "markdown",
   "id": "685cf718",
   "metadata": {},
   "source": [
    "# Q9.\n",
    "\n",
    "# Supervised Learning\n",
    "1.Supervised learning algorithms are trained using labeled data. 2.Supervised learning model takes direct feedback to check if it is predicting correct output or not. 3.Supervised learning model predicts the output. 4.In supervised learning, input data is provided to the model along with the output. 5.The goal of supervised learning is to train the model so that it can predict the output when it is given new data. 6.Supervised learning can be categorized in Classification and Regression problems.\n",
    "\n",
    "# Unsupervised Learning\n",
    "1.Unsupervised learning algorithms are trained using unlabeled data. 2.Unsupervised learning model does not take any feedback. 3.Unsupervised learning model finds the hidden patterns in data. 4.In unsupervised learning, only input data is provided to the model. 5.The goal of unsupervised learning is to find the hidden patterns and useful insights from the unknown dataset. 6.Unsupervised Learning can be classified in Clustering and Associations problems."
   ]
  },
  {
   "cell_type": "markdown",
   "id": "9e607b60",
   "metadata": {},
   "source": [
    "# Q10.\n",
    "\n",
    "1. MATLAB is one of the most widely used programming languages.\n",
    "2. Deep learning applications in healthcare\n",
    "3. Study of the market basket\n",
    "4. Linear regression (simple)\n",
    "\n",
    "\n",
    "# i. MATLAB is one of the most widely used programming languages.\n",
    "MATLAB short for Matrix Laboratory is a widely used programming language which finds its most usage in writing mathematically intensive, technical programs that have a very low space and time complexity issue. MATLAB has graph plotting capabilities, fast array-based computations, and large mathematical functions library.\n",
    "\n",
    "# ii. Deep learning applications in healthcare\n",
    "Deep learning is being put to good use in healthcare industry for automated detection of glucose levels in diabetic patients, detecting health problems and a lot more. Lung related issues can be detected by simply feeding the coughing sound data to deep learning models. The capability of deep learning models to go through a lot of data and still be able to make accurate predictions makes it appropriate for the next revolution in healthcare.\n",
    "\n",
    "# 11.1 Generalization and abstraction\n",
    "Generalization is the characteristic of a machine learning model that dictates how much variations in the input data regarding problem statement can a model handle. Low generalization would mean that the model will not be able to give correct results over varied data, meaning overfitting or high variance. High generalization would mean that the model will be able to give correct results over varied data.\n",
    "\n",
    "Abstraction is a step in machine learning process where the simplification of the problem is done to make the process more streamlined and more efficient while using less memory. Abstraction can constitute one or more steps. Feature selection, dimensionality reduction are some of the examples.\n",
    "\n",
    "# 11.2 Learning that is guided and unsupervised\n",
    "Supervised machine learning requires labeled data. Performance metrics are different for regression and classification problems. Number of class labels are known beforehand. Computationally taxing on the machine.\n",
    "\n",
    "Unsupervised machine learning is done on unlabeled data. Unsupervised machine learning performance metrics are applicable for all problems being solved by this approach. Number of class labels is not known beforehand. Computationally not as taxing as supervised machine learning.\n",
    "\n",
    "# 11.3 Regression and classification\n",
    "Regression involves predicting the value of target variable using labeled data, based on the values of independent variables. The values of target variable belong to an open set.\n",
    "\n",
    "Classification involves predicting the value of target variable using either labeled or unlabeled data, based on values of independent variables. The values of target variable belong to a finite set\n",
    "\n",
    "# iv. Linear regression (simple)\n",
    "Arranged in or extending along a straight or nearly straight line. Linear suggests that the relationship between dependent and independent variable can be expressed in a straight line. Linear regression models are not perfect. It tries to approximate the relationship between dependent and independent variables in a straight line. Approximation leads to errors. Some errors can be reduced. Some errors are inherent in the nature of the problem. These errors cannot be eliminated. They are called as an irreducible error, the noise term in the true relationship that cannot fundamentally be reduced by any model.\n",
    "\n",
    "y = mx + c\n",
    "\n",
    "Linear regression is nothing but a manifestation of this simple equation.\n",
    "\n",
    "y is the dependent variable i.e. the variable that needs to be estimated and predicted.\n",
    "\n",
    "x is the independent variable i.e. the variable that is controllable. It is the input.\n",
    "\n",
    "m is the slope. It determines what will be the angle of the line. It is the parameter denoted as β.\n",
    "\n",
    "c is the intercept. A constant that determines the value of y when x is 0."
   ]
  },
  {
   "cell_type": "code",
   "execution_count": null,
   "id": "948f490a",
   "metadata": {},
   "outputs": [],
   "source": []
  }
 ],
 "metadata": {
  "kernelspec": {
   "display_name": "Python 3 (ipykernel)",
   "language": "python",
   "name": "python3"
  },
  "language_info": {
   "codemirror_mode": {
    "name": "ipython",
    "version": 3
   },
   "file_extension": ".py",
   "mimetype": "text/x-python",
   "name": "python",
   "nbconvert_exporter": "python",
   "pygments_lexer": "ipython3",
   "version": "3.9.7"
  }
 },
 "nbformat": 4,
 "nbformat_minor": 5
}
