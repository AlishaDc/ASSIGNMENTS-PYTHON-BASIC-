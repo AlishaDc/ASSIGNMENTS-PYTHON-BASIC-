{
 "cells": [
  {
   "cell_type": "markdown",
   "id": "80c29b5f",
   "metadata": {},
   "source": [
    "# Q1.\n",
    "\n",
    "Machine Learning is the computer's ability to learn from data without being explicitly programmed.Machine learning is a branch of artificial intelligence (AI) and computer science which focuses on the use of data and algorithms to imitate the way that humans learn, gradually improving its accuracy."
   ]
  },
  {
   "cell_type": "markdown",
   "id": "eebc3999",
   "metadata": {},
   "source": [
    "# Q2.\n",
    "\n",
    "1. Image classification\n",
    "\n",
    "2. Voice Recognition\n",
    "\n",
    "3. Semantic Segmentation\n",
    "\n",
    "4. Sentiment Analysis"
   ]
  },
  {
   "cell_type": "markdown",
   "id": "1f0f5afd",
   "metadata": {},
   "source": [
    "# Q3.\n",
    "\n",
    "In the context of supervised learning, a labeled training set is a data set with available targets. Meaning that what you want to predict is known before training.\n",
    "\n",
    "Example: a training set composed of images of cats or dogs and the corresponding label (cat/dog) for each of the images."
   ]
  },
  {
   "cell_type": "markdown",
   "id": "173acaa9",
   "metadata": {},
   "source": [
    "# Q4.\n",
    "\n",
    "Classification: where the target is categorical in nature\n",
    "\n",
    "Regression: where the labels' domain is continuous"
   ]
  },
  {
   "cell_type": "markdown",
   "id": "2c1158d6",
   "metadata": {},
   "source": [
    "# Q5.\n",
    "\n",
    "Clustering, Anomaly detection, Visualization, dimensionality reduction."
   ]
  },
  {
   "cell_type": "markdown",
   "id": "97d4c7cb",
   "metadata": {},
   "source": [
    "# Q6.\n",
    "\n",
    "Reinforcement learning"
   ]
  },
  {
   "cell_type": "markdown",
   "id": "787640cb",
   "metadata": {},
   "source": [
    "# Q7.\n",
    "\n",
    "An unsupervised clustering algorithm like K-means or DBSCAN."
   ]
  },
  {
   "cell_type": "markdown",
   "id": "9bca1eb2",
   "metadata": {},
   "source": [
    "# Q8.\n",
    "\n",
    "It a supervised learning problem."
   ]
  },
  {
   "cell_type": "markdown",
   "id": "7752318e",
   "metadata": {},
   "source": [
    "# Q9.\n",
    "\n",
    "An online learning system continues to learn from new data after being deployed in production, in contrast to a batch learning model which would stop learning after the initial training process."
   ]
  },
  {
   "cell_type": "markdown",
   "id": "c1f1bfb4",
   "metadata": {},
   "source": [
    "# Q10.\n",
    "\n",
    "We use out-of-core learning algorithms when the training data can't fit in a computer's RAM"
   ]
  },
  {
   "cell_type": "markdown",
   "id": "a1340980",
   "metadata": {},
   "source": [
    "# Q11.\n",
    "\n",
    "Instance-based models, an example of this is K-nearest neighbors."
   ]
  },
  {
   "cell_type": "markdown",
   "id": "f6bc549b",
   "metadata": {},
   "source": [
    "# Q12.\n",
    "\n",
    "Model parameters are the knobs that, collectively, store the learned knowledge of the model, also called weights, they are continuously changed during training to minimize a cost function. Examples are a & b in the linear model: .\n",
    "\n",
    "A learning algorithm's hyper-parameter describes how the algorithm should learn and control the predictive power of the model, example is the learning rate, number of layers in a NN, number of parameters, batch size, they are set before training and aren't changed during training."
   ]
  },
  {
   "cell_type": "markdown",
   "id": "7eefe80b",
   "metadata": {},
   "source": [
    "# Q13.\n",
    "\n",
    "A decision boundary. They minimize a cost function that describe the distance between the predictions outputted by the model and the real target values. They start with a set of initial parameters, make predictions based on the input & their parameters, then adjust their parameters to minimize cost."
   ]
  },
  {
   "cell_type": "markdown",
   "id": "6363403c",
   "metadata": {},
   "source": [
    "# Q14.\n",
    "\n",
    "For algorithmic challenges: Model Overfitting, Model Underfitting. Data challenges include: Data mismatch, Noisy data."
   ]
  },
  {
   "cell_type": "markdown",
   "id": "c80dbec4",
   "metadata": {},
   "source": [
    "# Q15.\n",
    "\n",
    "Overfitting, the model starts memorizing noise present on the training data to further minimize the cost function. Regularization, Adding more data, Simplifying the model."
   ]
  },
  {
   "cell_type": "markdown",
   "id": "ea037f48",
   "metadata": {},
   "source": [
    "# Q16.\n",
    "\n",
    "The whole data set is usually split into training and testing data sets, we use test data to evaluate the generalizability of the model beyond the training data set."
   ]
  },
  {
   "cell_type": "markdown",
   "id": "970feeb8",
   "metadata": {},
   "source": [
    "# Q17.\n",
    "\n",
    "A validation set is used to fine-tune the models' hyper-parameters, what is called manual training. It leaves the test set for the final evaluation."
   ]
  },
  {
   "cell_type": "markdown",
   "id": "46d7028e",
   "metadata": {},
   "source": [
    "# Q18.\n",
    "\n",
    "the train-dev is a validation set that is taken from a broad training set after performing the train/validation/test split. We use it when we have a broad training data set (ex. images of all animals) but specific validation/test set (zoo animal pics taken with mobile phones) and we want to correctly interpret the model's evaluation.\n",
    "\n",
    "We train the model on the training data set, we evaluate on train-dev and validation, if model performs badly on both, we have an overfitting case, if the model performs good in train-dev and badly on validation we have a data mismatch, we conclude that the learning doesn't generalize to our specific production data."
   ]
  },
  {
   "cell_type": "markdown",
   "id": "9006f089",
   "metadata": {},
   "source": [
    "# Q19.\n",
    "\n",
    "We can accidentaly overfit to the test set by manually finding hyper-parameters that perform well on the test set but doesn't generalize to production data."
   ]
  },
  {
   "cell_type": "code",
   "execution_count": null,
   "id": "bd16d06f",
   "metadata": {},
   "outputs": [],
   "source": []
  }
 ],
 "metadata": {
  "kernelspec": {
   "display_name": "Python 3 (ipykernel)",
   "language": "python",
   "name": "python3"
  },
  "language_info": {
   "codemirror_mode": {
    "name": "ipython",
    "version": 3
   },
   "file_extension": ".py",
   "mimetype": "text/x-python",
   "name": "python",
   "nbconvert_exporter": "python",
   "pygments_lexer": "ipython3",
   "version": "3.9.7"
  }
 },
 "nbformat": 4,
 "nbformat_minor": 5
}
