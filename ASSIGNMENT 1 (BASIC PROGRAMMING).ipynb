{
 "cells": [
  {
   "cell_type": "markdown",
   "metadata": {},
   "source": [
    "# Q1.       "
   ]
  },
  {
   "cell_type": "code",
   "execution_count": 33,
   "metadata": {},
   "outputs": [
    {
     "name": "stdout",
     "output_type": "stream",
     "text": [
      "Hello Python\n"
     ]
    }
   ],
   "source": [
    "print('Hello Python')"
   ]
  },
  {
   "cell_type": "markdown",
   "metadata": {},
   "source": [
    "# Q2."
   ]
  },
  {
   "cell_type": "code",
   "execution_count": 34,
   "metadata": {},
   "outputs": [
    {
     "name": "stdout",
     "output_type": "stream",
     "text": [
      "Enter first number :5\n",
      "Enter second number :2\n",
      "Enter any operator either + or / :+\n",
      "5 + 2 : 7\n"
     ]
    }
   ],
   "source": [
    "x = int(input('Enter first number :'))                 #CASE1\n",
    "y = int(input('Enter second number :'))\n",
    "operator=input('Enter any operator either + or / :')\n",
    "result = 0\n",
    "if operator =='+':\n",
    "    result = x + y\n",
    "elif operator =='/':\n",
    "    result = x / y\n",
    "else:\n",
    "    print('Operator is unknown')\n",
    "print(x,operator,y,':',result)    "
   ]
  },
  {
   "cell_type": "code",
   "execution_count": 35,
   "metadata": {},
   "outputs": [
    {
     "name": "stdout",
     "output_type": "stream",
     "text": [
      "Enter first number :8\n",
      "Enter second number :2\n",
      "Enter any operator either + or / :/\n",
      "8 / 2 : 4.0\n"
     ]
    }
   ],
   "source": [
    "x = int(input('Enter first number :'))                 #CASE 2\n",
    "y = int(input('Enter second number :'))\n",
    "operator=input('Enter any operator either + or / :')\n",
    "result = 0\n",
    "if operator =='+':\n",
    "    result = x + y\n",
    "elif operator =='/':\n",
    "    result = x / y\n",
    "else:\n",
    "    print('Operator is unknown')\n",
    "print(x,operator,y,':',result)"
   ]
  },
  {
   "cell_type": "markdown",
   "metadata": {},
   "source": [
    "# Q3."
   ]
  },
  {
   "cell_type": "code",
   "execution_count": 36,
   "metadata": {},
   "outputs": [
    {
     "name": "stdout",
     "output_type": "stream",
     "text": [
      "Enter height of the triangle :5\n",
      "Enter base of the triangle :5\n",
      "Area of the triangle = 12.5\n"
     ]
    }
   ],
   "source": [
    "# WHEN BASE AND HEIGHT ARE GIVEN\n",
    "h = int(input('Enter height of the triangle :'))\n",
    "b = int(input('Enter base of the triangle :'))\n",
    "area = 0.5*b*h\n",
    "print('Area of the triangle =', area)"
   ]
  },
  {
   "cell_type": "code",
   "execution_count": 39,
   "metadata": {},
   "outputs": [
    {
     "name": "stdout",
     "output_type": "stream",
     "text": [
      "Enter first side: 5\n",
      "Enter second side: 4\n",
      "Enter third side: 6\n",
      "The area of the triangle =  9.921567416492215\n"
     ]
    }
   ],
   "source": [
    "#WHEN THREE SIDES ARE GIVEN\n",
    "x = int(input('Enter first side: '))\n",
    "y = int(input('Enter second side: '))\n",
    "z = int(input('Enter third side: '))\n",
    "s = (x + y + z)/2\n",
    "area = (s*(s-x)*(s-y)*(s-z))**0.5\n",
    "print('The area of the triangle = ',area)\n"
   ]
  },
  {
   "cell_type": "markdown",
   "metadata": {},
   "source": [
    "# Q4."
   ]
  },
  {
   "cell_type": "code",
   "execution_count": 42,
   "metadata": {},
   "outputs": [
    {
     "name": "stdout",
     "output_type": "stream",
     "text": [
      "x= 50\n",
      "y= 10\n"
     ]
    }
   ],
   "source": [
    "x = 10\n",
    "y = 50\n",
    "temp = x\n",
    "x = y\n",
    "y = temp\n",
    "print('x=',x)\n",
    "print('y=',y)"
   ]
  },
  {
   "cell_type": "markdown",
   "metadata": {},
   "source": [
    "# Q5.  "
   ]
  },
  {
   "cell_type": "code",
   "execution_count": 50,
   "metadata": {},
   "outputs": [
    {
     "name": "stdout",
     "output_type": "stream",
     "text": [
      "Generated random numbers : 5\n"
     ]
    }
   ],
   "source": [
    "import random\n",
    "print('Generated random numbers :',random.randint(2,12))"
   ]
  }
 ],
 "metadata": {
  "kernelspec": {
   "display_name": "Python 3",
   "language": "python",
   "name": "python3"
  },
  "language_info": {
   "codemirror_mode": {
    "name": "ipython",
    "version": 3
   },
   "file_extension": ".py",
   "mimetype": "text/x-python",
   "name": "python",
   "nbconvert_exporter": "python",
   "pygments_lexer": "ipython3",
   "version": "3.8.5"
  }
 },
 "nbformat": 4,
 "nbformat_minor": 4
}
