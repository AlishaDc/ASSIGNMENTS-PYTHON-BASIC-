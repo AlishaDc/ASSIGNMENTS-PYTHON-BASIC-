{
 "cells": [
  {
   "cell_type": "markdown",
   "id": "b3fe401a",
   "metadata": {},
   "source": [
    "# Q1.\n",
    "\n",
    "\n",
    "1. Mathematically, Prior Probability can be defined as the Probability of event A occurring. P(A). We can calculate the probability of getting afflicted with Covid-19 without any additional information would put us in a box and we would simply have to calculate the probability using the entire population of the world.\n",
    "2. Mathematically, it can be defined as the Probability of a point x such that it belongs to a certain class label. In above example, with more information like the information regarding the country and state we wish to talk about for Covid-19 infection, we will change or adjust our probability. In this case, probability calculated after getting more information is posterior probability.\n",
    "3. Mathematically, it can be defined as the Probability of event B (P(B)) given that event A has already occurred. Probability of getting a heads in a toss will be prior probability. But, calculating the conditional probability of the coin giving heads given that the coin was biased will be likelihood."
   ]
  },
  {
   "cell_type": "markdown",
   "id": "47b22c18",
   "metadata": {},
   "source": [
    "# Q2.\n",
    "\n",
    "Bayes theorem helps us define probabilities of an event A occurring given that another event B has already occurred. Using the calculation of the probabilities from independent variables, categorizing of target values can be done and the larger goal of concept learning can be achieved."
   ]
  },
  {
   "cell_type": "markdown",
   "id": "1508eeab",
   "metadata": {},
   "source": [
    "# Q3.\n",
    "\n",
    "Naive Bayes Classifier is used in sentiment analysis, for classifying a document as a positive or a negative comment. After the Data Preprocessing steps and Data Transformation, Documents can be converted to document term matrix using a Bag Of Words approach. Using this document term matrix, Naive Bayes Classifier is trained by calculating the probabilities of documents while using labelled data."
   ]
  },
  {
   "cell_type": "markdown",
   "id": "9d736ece",
   "metadata": {},
   "source": [
    "# Q4.\n",
    "\n",
    "Yes, we can use the Naive Bayes classifier on continuous numeric data. Values in the target variable can be put into bins or class intervals so that classes can be created and the Naive Bayes classifier only needs to predict these classes while the continous numeric values would come from a very well defined class interval later predicted by the classifier."
   ]
  },
  {
   "cell_type": "markdown",
   "id": "e18a5d94",
   "metadata": {},
   "source": [
    "# Q5.\n",
    "For solving problem statements dealing with uncertainty, probabilistic graphical models can be built for capturing the joint probabilities for a set of independent variables. Such a graphical model is called a Bayesian Belief Network. It works by calculating the posterior probabilities of future events using the past data of a set of independent variables.\n",
    "\n",
    "Main applications of Bayesian Belief Networks is prediction, time series analysis and decision analytics. Yes. They are capable of resolving a wide range of issues that deal with uncertainty."
   ]
  },
  {
   "cell_type": "markdown",
   "id": "7389c191",
   "metadata": {},
   "source": [
    "# Q6.\n",
    "P(A = 1|I = 1) = 0.98\n",
    "\n",
    "P(A = 1|I = 0) = 0.001\n",
    "\n",
    "P(I = 1) = 0.00001\n",
    "\n",
    "P(I=1|A=1) = P(A=1|I= 1)P(I=1)/(P(A=1|I=1)P(I=1)+P(A=1|I=0)*P(T=0))\n",
    "\n",
    "Or,\n",
    "\n",
    "0.98000001/(0.98000001+0.001*(1−0.00001))\n",
    "\n",
    "which comes out as 0.0097."
   ]
  },
  {
   "cell_type": "markdown",
   "id": "89041b55",
   "metadata": {},
   "source": [
    "# Q7.\n",
    "Given,\n",
    "\n",
    "P(Antibiotic resistant) = 0.02\n",
    "\n",
    "P(Not antibiotic resistant) = 0.98\n",
    "\n",
    "P(Test resulted positive| Not Antibiotic resistant) = 0.01\n",
    "\n",
    "P(Test resulted negative| Antibiotic resistant) = 0.05\n",
    "\n",
    "For P(Antibiotic resistant| Test resulted positive)\n",
    "\n",
    "P(Test resulted positive| Antibiotic resistant)P(Antibiotic resistant)/(P(Test resulted positive| Antibiotic resistant)P(Antibiotic resistant)+P(Test resulted positive| Not Antibiotic resistant)P(Not antibiotic resistant))\n",
    "\n",
    "(1-0.05)0.02/((1-0.05)0.02 + 0.01*0.98)\n",
    "\n",
    "which comes out to be 0.6597"
   ]
  },
  {
   "cell_type": "markdown",
   "id": "c0e65b0c",
   "metadata": {},
   "source": [
    "# Q8.\n",
    "# 1.\n",
    "Given,\n",
    "\n",
    "P(A) = 0.3\n",
    "\n",
    "P(B) = 0.2\n",
    "\n",
    "P(C) = 0.5\n",
    "\n",
    "P(Student solved| problem A) = 0.9\n",
    "\n",
    "P(Student solved| problem B) = 0.2\n",
    "\n",
    "P(Student solved| problem C) = 0.6\n",
    "\n",
    "For P(Student solved problem),\n",
    "\n",
    "P(Student solved| problem A)P(A)+P(Student solved| problem B)P(B)+P(Student solved| problem C)P(C)\n",
    "\n",
    "0.90.3+0.20.2+0.6*0.5\n",
    "\n",
    "which comes out as 0.61\n",
    "\n",
    "# 2. \n",
    "For, P(Problem was A| given it was solved)\n",
    "\n",
    "P(Student solved| problem A)P(A)/(P(Student solved problem))\n",
    "\n",
    "0.9*0.3/(0.61)\n",
    "\n",
    "which is 0.427"
   ]
  },
  {
   "cell_type": "markdown",
   "id": "15c92dd0",
   "metadata": {},
   "source": [
    "# Q9.\n",
    "\n",
    "# 1. How many customers come into the bank on a daily basis (10 hours)?\n",
    "Given,\n",
    "\n",
    "P(Customer coming into the bank in each 5-minute time period) = 0.05 Since each hour has 12 5-minute time period, then there will be a total of 10*12 = 120 5-min time periods per day.\n",
    "\n",
    "Therefore, 120*0.05 = 6 customers can come into the bank on a daily basis.\n",
    "\n",
    "# 2. On a daily basis, how many fake photographs (photographs taken when there is no customer) and how many missed photographs (photographs taken when there is a customer) are there?\n",
    "Given,\n",
    "\n",
    "P(If there is no customer, the camera takes a false photograph) = 0.1\n",
    "\n",
    "P(If there is a client, the CCTV will detect them) = 0.99\n",
    "\n",
    "For fake photographs,\n",
    "\n",
    "(120 - 6)*0.1 = 11.4 or 11 fake photographs.\n",
    "\n",
    "For missed photographs,\n",
    "\n",
    "6*0.1 = 0.6 or 60% of the times.\n",
    "\n",
    "# 3. Explain likelihood that there is a customer if there is a photograph?\n",
    "Given,\n",
    "\n",
    "P(If there is a client, the CCTV will detect them) = 0.99\n",
    "\n",
    "P(Customer) = 0.05\n",
    "\n",
    "For, P(Customer is there| Photo is taken)\n",
    "\n",
    "0.990.05/((0.990.5)+0.1(1-0.05))\n",
    "\n",
    "which is 0.34"
   ]
  },
  {
   "cell_type": "markdown",
   "id": "c6117f1c",
   "metadata": {},
   "source": []
  },
  {
   "cell_type": "code",
   "execution_count": null,
   "id": "3cbf337d",
   "metadata": {},
   "outputs": [],
   "source": []
  }
 ],
 "metadata": {
  "kernelspec": {
   "display_name": "Python 3 (ipykernel)",
   "language": "python",
   "name": "python3"
  },
  "language_info": {
   "codemirror_mode": {
    "name": "ipython",
    "version": 3
   },
   "file_extension": ".py",
   "mimetype": "text/x-python",
   "name": "python",
   "nbconvert_exporter": "python",
   "pygments_lexer": "ipython3",
   "version": "3.9.7"
  }
 },
 "nbformat": 4,
 "nbformat_minor": 5
}
