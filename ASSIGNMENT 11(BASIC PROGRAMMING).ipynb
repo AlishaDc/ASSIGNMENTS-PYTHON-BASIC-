{
 "cells": [
  {
   "cell_type": "markdown",
   "metadata": {},
   "source": [
    "# Q1."
   ]
  },
  {
   "cell_type": "code",
   "execution_count": 6,
   "metadata": {},
   "outputs": [
    {
     "name": "stdout",
     "output_type": "stream",
     "text": [
      "Enter the string: hey what's up bro?\n",
      "The value of k is 3\n",
      "All the words which are greater than given length k are [\"what's\", 'bro?']\n"
     ]
    }
   ],
   "source": [
    "string = input(\"Enter the string: \")\n",
    "a = string.split(\" \")\n",
    "b = []\n",
    "k = int(input(\"The value of k is \"))\n",
    "\n",
    "for i in a:\n",
    "    if (len(i)> k) :\n",
    "        b.append(i)\n",
    "print(\"All the words which are greater than given length k are\",b)"
   ]
  },
  {
   "cell_type": "markdown",
   "metadata": {},
   "source": [
    "# Q2."
   ]
  },
  {
   "cell_type": "code",
   "execution_count": 2,
   "metadata": {},
   "outputs": [
    {
     "name": "stdout",
     "output_type": "stream",
     "text": [
      "Enter the string : hello alisha\n",
      "Enter the index of character to be removed : 6\n",
      "String formed by removing ith character : hello lisha\n"
     ]
    }
   ],
   "source": [
    "string =  input('Enter the string : ')\n",
    "i = int(input('Enter the index of character to be removed : '))\n",
    "\n",
    "newstring= string.replace(string[i], \"\",1)\n",
    "print (\"String formed by removing ith character : \" + newstring)"
   ]
  },
  {
   "cell_type": "markdown",
   "metadata": {},
   "source": [
    "# Q3."
   ]
  },
  {
   "cell_type": "code",
   "execution_count": 4,
   "metadata": {},
   "outputs": [
    {
     "name": "stdout",
     "output_type": "stream",
     "text": [
      "Enter the string: today is a good day\n",
      "['today', 'is', 'a', 'good', 'day']\n"
     ]
    }
   ],
   "source": [
    "a = input('Enter the string: ')\n",
    "a = a.split() \n",
    "print(a)"
   ]
  },
  {
   "cell_type": "code",
   "execution_count": 12,
   "metadata": {},
   "outputs": [
    {
     "name": "stdout",
     "output_type": "stream",
     "text": [
      "Today-is-a-good-day\n"
     ]
    }
   ],
   "source": [
    "a = ('Today','is','a','good','day')\n",
    "a = '-'.join(a)\n",
    "print(a)"
   ]
  },
  {
   "cell_type": "markdown",
   "metadata": {},
   "source": [
    "# Q4."
   ]
  },
  {
   "cell_type": "code",
   "execution_count": 14,
   "metadata": {},
   "outputs": [
    {
     "name": "stdout",
     "output_type": "stream",
     "text": [
      "Enter the string : 01010111\n",
      "The String is binary string\n"
     ]
    }
   ],
   "source": [
    "str =  input('Enter the string : ')\n",
    "\n",
    "result = True\n",
    "for char in str :\n",
    "    if(char == '0' or char == '1'):\n",
    "        continue \n",
    "    else :\n",
    "        result= False\n",
    "        print(\"The String is not a binary string\")\n",
    "        break\n",
    "    \n",
    "if(result):\n",
    "    print(\"The String is binary string\")"
   ]
  },
  {
   "cell_type": "markdown",
   "metadata": {},
   "source": [
    "# Q5."
   ]
  },
  {
   "cell_type": "code",
   "execution_count": 18,
   "metadata": {},
   "outputs": [
    {
     "name": "stdout",
     "output_type": "stream",
     "text": [
      "The uncommon words in strings are: ['sour', 'sweet']\n"
     ]
    }
   ],
   "source": [
    "def find(a,b):\n",
    "    count = {}\n",
    "    for word in a.split():\n",
    "        count[word] = count.get(word, 0) + 1\n",
    "    for word in b.split():\n",
    "        count[word] = count.get(word, 0) + 1\n",
    "    return [word for word in count if count[word] == 1]\n",
    "a = \"Grapes are sour \"\n",
    "b = \"Grapes are sweet\"\n",
    "print(\"The uncommon words in strings are:\",find(a,b))"
   ]
  },
  {
   "cell_type": "markdown",
   "metadata": {},
   "source": [
    "# Q6."
   ]
  },
  {
   "cell_type": "code",
   "execution_count": 32,
   "metadata": {},
   "outputs": [
    {
     "name": "stdout",
     "output_type": "stream",
     "text": [
      "l o\n"
     ]
    }
   ],
   "source": [
    "word = 'hello world'\n",
    "ch = []\n",
    "for i in word:\n",
    "    if word.count(i)>1:\n",
    "        if i not in ch:\n",
    "            ch.append(i)\n",
    "print(*ch)"
   ]
  },
  {
   "cell_type": "markdown",
   "metadata": {},
   "source": [
    "# Q7."
   ]
  },
  {
   "cell_type": "code",
   "execution_count": 31,
   "metadata": {},
   "outputs": [
    {
     "name": "stdout",
     "output_type": "stream",
     "text": [
      "Enter the string: hey $what &up\n",
      "String contains special characters\n"
     ]
    }
   ],
   "source": [
    "import re\n",
    "string = input('Enter the string: ')\n",
    "special_ch = re.compile('[@_!#$%^&*()<>?/\\|}{~:]')\n",
    "if special_ch.search(string) == None:\n",
    "    print('String does not contain special characters')\n",
    "else:\n",
    "    print('String contains special characters')"
   ]
  },
  {
   "cell_type": "code",
   "execution_count": null,
   "metadata": {},
   "outputs": [],
   "source": []
  }
 ],
 "metadata": {
  "kernelspec": {
   "display_name": "Python 3",
   "language": "python",
   "name": "python3"
  },
  "language_info": {
   "codemirror_mode": {
    "name": "ipython",
    "version": 3
   },
   "file_extension": ".py",
   "mimetype": "text/x-python",
   "name": "python",
   "nbconvert_exporter": "python",
   "pygments_lexer": "ipython3",
   "version": "3.8.5"
  }
 },
 "nbformat": 4,
 "nbformat_minor": 4
}
