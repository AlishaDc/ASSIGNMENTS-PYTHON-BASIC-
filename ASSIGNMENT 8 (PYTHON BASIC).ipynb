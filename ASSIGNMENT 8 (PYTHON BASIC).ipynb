{
 "cells": [
  {
   "cell_type": "markdown",
   "metadata": {},
   "source": [
    "# Q1.                 \n",
    "\n",
    "No PyInputPlus is not a part of the Python Standard Library. We can install the module via pip command (pip install PyInputPlus)."
   ]
  },
  {
   "cell_type": "markdown",
   "metadata": {},
   "source": [
    "# Q2.                  \n",
    "\n",
    "PyInputPlus is commonly imported with import pyinputplus as pypip as it saves us from typing PyInputPlus each time we want to call a PyInputPlus function, hence we use the shorter pyip name."
   ]
  },
  {
   "cell_type": "markdown",
   "metadata": {},
   "source": [
    "# Q3.                \n",
    "\n",
    "The difference between inputint() and inputfloat() is that inputint() accepts a numeric value(a number without decimal) and returns a int while inputfloat() accepts a floating point numeric value( a number with decimal) and returns a float."
   ]
  },
  {
   "cell_type": "markdown",
   "metadata": {},
   "source": [
    "# Q4.                          \n",
    "\n",
    "By using pyip.input(min=0,max=99)\n"
   ]
  },
  {
   "cell_type": "markdown",
   "metadata": {},
   "source": [
    "# Q5. \n",
    "\n",
    "The allowRegexes and BlockRegexes keyword arguments take the list of regular expression strings  to determine what the PyInputPlus function will accept or reject as valid input. The allowRegexes list overrides the blockRegexes list. For example if we enter the following in the interactive shell, which allows 'caterpillar' and 'category' but blocks anything else that has the word 'cat' in it."
   ]
  },
  {
   "cell_type": "markdown",
   "metadata": {},
   "source": [
    "# Q6.\n",
    "\n",
    "If blank input is entered then the PyInputPlus functions will continue to ask the user for valid input forever, unless and until the code runs and if we type inputStr(limit =3) it will make only three attempts to receive valid input before giving up and a RetryLimitException is raised."
   ]
  },
  {
   "cell_type": "markdown",
   "metadata": {},
   "source": [
    "# Q7.  \n",
    "\n",
    "If blank input is entered then the PyInputPlus functions will continue to ask the user for valid input, unless and until the code runs and if we type inputStr(limit =3,default ='hello') it will make only three attempts to receive valid input before giving up and hello is returned as we have specified default = 'hello' , if we dont specify default = 'hello' a RetryLimitException is raised."
   ]
  }
 ],
 "metadata": {
  "kernelspec": {
   "display_name": "Python 3",
   "language": "python",
   "name": "python3"
  },
  "language_info": {
   "codemirror_mode": {
    "name": "ipython",
    "version": 3
   },
   "file_extension": ".py",
   "mimetype": "text/x-python",
   "name": "python",
   "nbconvert_exporter": "python",
   "pygments_lexer": "ipython3",
   "version": "3.8.5"
  }
 },
 "nbformat": 4,
 "nbformat_minor": 4
}
