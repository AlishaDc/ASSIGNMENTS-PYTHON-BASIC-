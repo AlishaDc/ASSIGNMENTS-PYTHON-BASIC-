{
 "cells": [
  {
   "cell_type": "markdown",
   "metadata": {},
   "source": [
    "# Q1."
   ]
  },
  {
   "cell_type": "code",
   "execution_count": 3,
   "metadata": {},
   "outputs": [
    {
     "name": "stdout",
     "output_type": "stream",
     "text": [
      "Sum of elements in the list is 15\n"
     ]
    }
   ],
   "source": [
    "lst =[1,2,3,4,5]\n",
    "total = sum(lst)\n",
    "print('Sum of elements in the list is',total)"
   ]
  },
  {
   "cell_type": "markdown",
   "metadata": {},
   "source": [
    "# Q2."
   ]
  },
  {
   "cell_type": "code",
   "execution_count": 11,
   "metadata": {},
   "outputs": [
    {
     "name": "stdout",
     "output_type": "stream",
     "text": [
      "120\n"
     ]
    }
   ],
   "source": [
    "# we can use np.prod() to get multiplication\n",
    "import numpy as np\n",
    "lst = [1,2,3,4,5]\n",
    "result = np.prod(lst)\n",
    "print(result)"
   ]
  },
  {
   "cell_type": "code",
   "execution_count": 12,
   "metadata": {},
   "outputs": [],
   "source": [
    "# OR\n",
    "\n",
    "def mult(lst):\n",
    "    sum = 1\n",
    "    for i in lst:\n",
    "        sum = sum*i\n",
    "    return sum"
   ]
  },
  {
   "cell_type": "code",
   "execution_count": 13,
   "metadata": {},
   "outputs": [
    {
     "name": "stdout",
     "output_type": "stream",
     "text": [
      "120\n"
     ]
    }
   ],
   "source": [
    "lst = [1,2,3,4,5]\n",
    "print(mult(lst))"
   ]
  },
  {
   "cell_type": "markdown",
   "metadata": {},
   "source": [
    "# Q3."
   ]
  },
  {
   "cell_type": "code",
   "execution_count": 18,
   "metadata": {},
   "outputs": [
    {
     "name": "stdout",
     "output_type": "stream",
     "text": [
      "Smallest number in the list is 5\n"
     ]
    }
   ],
   "source": [
    "lst = [92,100,5,80,21,70]\n",
    "print('Smallest number in the list is',min(lst))"
   ]
  },
  {
   "cell_type": "markdown",
   "metadata": {},
   "source": [
    "# Q4."
   ]
  },
  {
   "cell_type": "code",
   "execution_count": 17,
   "metadata": {},
   "outputs": [
    {
     "name": "stdout",
     "output_type": "stream",
     "text": [
      "Largest number in the list is 100\n"
     ]
    }
   ],
   "source": [
    "lst = [92,100,5,80,21,70]\n",
    "print('Largest number in the list is',max(lst))"
   ]
  },
  {
   "cell_type": "markdown",
   "metadata": {},
   "source": [
    "# Q5."
   ]
  },
  {
   "cell_type": "code",
   "execution_count": 21,
   "metadata": {},
   "outputs": [
    {
     "name": "stdout",
     "output_type": "stream",
     "text": [
      "The second largest number in the list is 92\n"
     ]
    }
   ],
   "source": [
    "lst = [92,100,5,80,21,70]\n",
    "lst.sort()\n",
    "print('The second largest number in the list is',lst[-2])"
   ]
  },
  {
   "cell_type": "markdown",
   "metadata": {},
   "source": [
    "# Q6."
   ]
  },
  {
   "cell_type": "code",
   "execution_count": 24,
   "metadata": {},
   "outputs": [
    {
     "name": "stdout",
     "output_type": "stream",
     "text": [
      "The Nth largest number in the list is 80\n"
     ]
    }
   ],
   "source": [
    "lst = [92,100,5,80,21,70]\n",
    "n = 3\n",
    "lst.sort()\n",
    "print('The Nth largest number in the list is',lst[-n])"
   ]
  },
  {
   "cell_type": "markdown",
   "metadata": {},
   "source": [
    "# Q7."
   ]
  },
  {
   "cell_type": "code",
   "execution_count": 36,
   "metadata": {},
   "outputs": [
    {
     "name": "stdout",
     "output_type": "stream",
     "text": [
      "The even numbers in the list are [4, 10, 12]\n"
     ]
    }
   ],
   "source": [
    "lst = [91,4,10,5,21,12]\n",
    "even_num = [i for i in lst if i % 2 == 0]\n",
    "print('The even numbers in the list are',even_num)"
   ]
  },
  {
   "cell_type": "markdown",
   "metadata": {},
   "source": [
    "# Q8."
   ]
  },
  {
   "cell_type": "code",
   "execution_count": 39,
   "metadata": {},
   "outputs": [
    {
     "name": "stdout",
     "output_type": "stream",
     "text": [
      "The even numbers in the list are [91, 5, 21]\n"
     ]
    }
   ],
   "source": [
    "lst = [91,4,10,5,21,12]\n",
    "odd_num = [i for i in lst if i % 2 != 0]\n",
    "print('The even numbers in the list are',odd_num)"
   ]
  },
  {
   "cell_type": "markdown",
   "metadata": {},
   "source": [
    "# Q9."
   ]
  },
  {
   "cell_type": "code",
   "execution_count": 43,
   "metadata": {},
   "outputs": [
    {
     "name": "stdout",
     "output_type": "stream",
     "text": [
      "[5, 81, 71]\n"
     ]
    }
   ],
   "source": [
    "lst = [[],5, [], [],81, [], [],71]\n",
    "lst1 = []\n",
    "for i in lst:\n",
    "    if i != []:\n",
    "        lst1.append(i)\n",
    "print(lst1)        "
   ]
  },
  {
   "cell_type": "markdown",
   "metadata": {},
   "source": [
    "# Q10."
   ]
  },
  {
   "cell_type": "code",
   "execution_count": 2,
   "metadata": {},
   "outputs": [
    {
     "name": "stdout",
     "output_type": "stream",
     "text": [
      "Original List: [3, 12, 9, 54, 19]\n",
      "After Cloning: [3, 12, 9, 54, 19]\n"
     ]
    }
   ],
   "source": [
    "def Cloning(lst):\n",
    "    sum = lst[:]\n",
    "    return sum\n",
    "lst = [3,12,9,54,19]\n",
    "lst1 = Cloning(lst)\n",
    "print(\"Original List:\", lst)\n",
    "print(\"After Cloning:\", lst1)"
   ]
  },
  {
   "cell_type": "markdown",
   "metadata": {},
   "source": [
    "# Q11."
   ]
  },
  {
   "cell_type": "code",
   "execution_count": 7,
   "metadata": {},
   "outputs": [
    {
     "name": "stdout",
     "output_type": "stream",
     "text": [
      "7 has occured 3 times\n"
     ]
    }
   ],
   "source": [
    "lst = [7,19,6,20,7,7]\n",
    "x = 7\n",
    "count = lst.count(x)\n",
    "print(x, 'has occured',count,'times')"
   ]
  },
  {
   "cell_type": "code",
   "execution_count": null,
   "metadata": {},
   "outputs": [],
   "source": []
  }
 ],
 "metadata": {
  "kernelspec": {
   "display_name": "Python 3",
   "language": "python",
   "name": "python3"
  },
  "language_info": {
   "codemirror_mode": {
    "name": "ipython",
    "version": 3
   },
   "file_extension": ".py",
   "mimetype": "text/x-python",
   "name": "python",
   "nbconvert_exporter": "python",
   "pygments_lexer": "ipython3",
   "version": "3.8.5"
  }
 },
 "nbformat": 4,
 "nbformat_minor": 4
}
