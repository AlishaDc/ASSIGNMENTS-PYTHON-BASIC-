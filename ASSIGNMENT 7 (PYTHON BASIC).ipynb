{
 "cells": [
  {
   "cell_type": "markdown",
   "metadata": {},
   "source": [
    "# Q1.\n",
    "\n",
    "The function responsible for generating regex objects is re.compile()."
   ]
  },
  {
   "cell_type": "markdown",
   "metadata": {},
   "source": [
    "# Q2.     \n",
    "\n",
    "Raw strings are used in regex objects when we want to have a string that contains backlash and don't want it to be treated as an escape characters.   "
   ]
  },
  {
   "cell_type": "markdown",
   "metadata": {},
   "source": [
    "# Q3.                         \n",
    "\n",
    "The search() method returns Match objects or None otherwise."
   ]
  },
  {
   "cell_type": "markdown",
   "metadata": {},
   "source": [
    "# Q4.                   \n",
    "\n",
    "Match objects have a group() method that will return the actual matched text from the searched string.\n"
   ]
  },
  {
   "cell_type": "markdown",
   "metadata": {},
   "source": [
    "# Q5.              \n",
    "\n",
    "GROUP(0) locates the whole match expression.               \n",
    "GROUP(1) means the frist paarnthesis pair locates matching expression 1.       \n",
    "GROUP(2) means the second next parenthesis pair the locates the match expression 2."
   ]
  },
  {
   "cell_type": "markdown",
   "metadata": {},
   "source": [
    "# Q6.            \n",
    "\n",
    "  \\., \\( and \\) are used to escape periods and parenthesis with a backlash."
   ]
  },
  {
   "cell_type": "markdown",
   "metadata": {},
   "source": [
    "# Q7.             \n",
    "\n",
    "The findall() method returns a list of strings when regex has no groups and when it has groups, a list of tuples of strings is returned."
   ]
  },
  {
   "cell_type": "markdown",
   "metadata": {},
   "source": [
    "# Q8.                                      \n",
    "\n",
    " The | character indicates matching EITHER OR between two groups."
   ]
  },
  {
   "cell_type": "markdown",
   "metadata": {},
   "source": [
    "# Q9.                     \n",
    "\n",
    "A regular expression followed by a question mark (?) matches zero or one occurrence of the one-character regular expression or it can be used to indicate non greedy matching."
   ]
  },
  {
   "cell_type": "markdown",
   "metadata": {},
   "source": [
    "# Q10.           \n",
    "\n",
    "The + matches one or more occurences and the * matches zero or more occurences in regular expressions."
   ]
  },
  {
   "cell_type": "markdown",
   "metadata": {},
   "source": [
    "# Q11.   \n",
    "\n",
    "The {4} is a quantifier which matches exactly four digits and {4,5} matches between four and five occurences in regular expressions."
   ]
  },
  {
   "cell_type": "markdown",
   "metadata": {},
   "source": [
    "# Q12.                       \n",
    "\n",
    "The \\d, \\w and \\s shorthand character classes returns a match where the string contains digits (numbers from 0-9), any word characters (characters from a to Z, digits from 0-9, and the underscore _ character) and a white space character in regular expressions."
   ]
  },
  {
   "cell_type": "markdown",
   "metadata": {},
   "source": [
    "# Q13.            \n",
    "\n",
    "The \\D, \\W and \\S shorthand characters classes returns a match where the string DOES NOT contain digits, any word characters and a white space character in regular expressions."
   ]
  },
  {
   "cell_type": "markdown",
   "metadata": {},
   "source": [
    "# Q14.               \n",
    "\n",
    ".* is a greedy match which tends to get the longest string that meets the condition and .*? is a non greedy mode which tends to get the shortest string that meets the conditions."
   ]
  },
  {
   "cell_type": "markdown",
   "metadata": {},
   "source": [
    "# Q15.            \n",
    "\n",
    "The character class syntax to match all numbers and lowercase letters is [a-z0-9] or [0-9a-z]."
   ]
  },
  {
   "cell_type": "markdown",
   "metadata": {},
   "source": [
    "# Q16.\n",
    "\n",
    "Passing re.| or re.IGNORECASE as the second argument to re.compile() will make the matching case insensitive."
   ]
  },
  {
   "cell_type": "markdown",
   "metadata": {},
   "source": [
    "# Q17.             \n",
    "\n",
    "The . character matches any single character except the newline(\\n).          \n",
    "If re.DOTALL is passed as the second argument to re.compile() then the dot will also match the newline."
   ]
  },
  {
   "cell_type": "markdown",
   "metadata": {},
   "source": [
    "# Q18.       "
   ]
  },
  {
   "cell_type": "code",
   "execution_count": 7,
   "metadata": {},
   "outputs": [
    {
     "data": {
      "text/plain": [
       "'X drummers, X pipers, five rings, X hens'"
      ]
     },
     "execution_count": 7,
     "metadata": {},
     "output_type": "execute_result"
    }
   ],
   "source": [
    "import re\n",
    "numRegex = re.compile(r'\\d+')\n",
    "numRegex.sub('X','12 drummers, 11 pipers, five rings, 3 hens')"
   ]
  },
  {
   "cell_type": "markdown",
   "metadata": {},
   "source": [
    "# Q19.            \n",
    "\n",
    "When re.VERBOSE  argument is passed to re.compile() it allows us to add whitespace and comments to the string."
   ]
  },
  {
   "cell_type": "markdown",
   "metadata": {},
   "source": [
    "# Q20.           \n",
    "\n"
   ]
  },
  {
   "cell_type": "markdown",
   "metadata": {},
   "source": [
    "re.compile(r'^\\d{1,3}(,\\d{3})*$')  will create this regex, but other regex strings can produce a similar regular expression."
   ]
  },
  {
   "cell_type": "markdown",
   "metadata": {},
   "source": [
    " # Q21."
   ]
  },
  {
   "cell_type": "markdown",
   "metadata": {},
   "source": [
    "\n",
    "re.compile(r'[A-Z][a-z]*\\sNakamoto')"
   ]
  },
  {
   "cell_type": "markdown",
   "metadata": {},
   "source": [
    "# Q22."
   ]
  },
  {
   "cell_type": "markdown",
   "metadata": {},
   "source": [
    "re.compile(r'(Alice|Bob|Carol)\\s(eats|pets|throws)\\s(apples|cats|baseballs)\\.', re.IGNORECASE')   "
   ]
  }
 ],
 "metadata": {
  "kernelspec": {
   "display_name": "Python 3",
   "language": "python",
   "name": "python3"
  },
  "language_info": {
   "codemirror_mode": {
    "name": "ipython",
    "version": 3
   },
   "file_extension": ".py",
   "mimetype": "text/x-python",
   "name": "python",
   "nbconvert_exporter": "python",
   "pygments_lexer": "ipython3",
   "version": "3.8.5"
  }
 },
 "nbformat": 4,
 "nbformat_minor": 4
}
