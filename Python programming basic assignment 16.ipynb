{
 "cells": [
  {
   "cell_type": "markdown",
   "id": "06c2b430",
   "metadata": {},
   "source": [
    "# Q1."
   ]
  },
  {
   "cell_type": "code",
   "execution_count": 8,
   "id": "789610e5",
   "metadata": {},
   "outputs": [
    {
     "name": "stdout",
     "output_type": "stream",
     "text": [
      "Enter the word: Incredible\n",
      "in... in... incredible?\n"
     ]
    }
   ],
   "source": [
    "def stutter(str):\n",
    "    return (2*(str[:2]+'... '))+str+'?'\n",
    "\n",
    "str = input('Enter the word: ').lower()\n",
    "print(stutter(str))     "
   ]
  },
  {
   "cell_type": "markdown",
   "id": "2f633f61",
   "metadata": {},
   "source": [
    "# Q2."
   ]
  },
  {
   "cell_type": "code",
   "execution_count": 9,
   "id": "63cd6ded",
   "metadata": {},
   "outputs": [
    {
     "name": "stdout",
     "output_type": "stream",
     "text": [
      "Enter the value of an angle in radian: 20\n",
      "The value of angle 20 in degrees is: 1145.9\n"
     ]
    }
   ],
   "source": [
    "import math\n",
    "def radians_to_degrees(radian):\n",
    "    degree = round(radian*(180/math.pi),1)\n",
    "    return degree\n",
    "\n",
    "radian = int(input('Enter the value of an angle in radian: '))\n",
    "print(f'The value of angle {radian} in degrees is: {radians_to_degrees(radian)}')    "
   ]
  },
  {
   "cell_type": "markdown",
   "id": "4b11847a",
   "metadata": {},
   "source": [
    "# Q3."
   ]
  },
  {
   "cell_type": "code",
   "execution_count": 10,
   "id": "5579df74",
   "metadata": {},
   "outputs": [
    {
     "name": "stdout",
     "output_type": "stream",
     "text": [
      "Pleae enter a non-negative interger: 12\n",
      "4097 is not multiple of 25\n"
     ]
    }
   ],
   "source": [
    "def is_curzon(n):\n",
    "    if num1%num2 == 0:\n",
    "        return True\n",
    "    else:\n",
    "        return False \n",
    "\n",
    "n = int(input('Pleae enter a non-negative interger: '))\n",
    "\n",
    "num1 = 2**n + 1\n",
    "num2 = 2*n + 1   \n",
    "    \n",
    "if is_curzon(n) is True:\n",
    "    print(f'{num1} is multiple of {num2}')\n",
    "else:\n",
    "    print(f'{num1} is not multiple of {num2}')\n",
    "        "
   ]
  },
  {
   "cell_type": "markdown",
   "id": "37ac2213",
   "metadata": {},
   "source": [
    "# Q4."
   ]
  },
  {
   "cell_type": "code",
   "execution_count": 11,
   "id": "4433f257",
   "metadata": {},
   "outputs": [
    {
     "name": "stdout",
     "output_type": "stream",
     "text": [
      "Please enter the side of the hexagon: 2\n",
      "10.4\n"
     ]
    }
   ],
   "source": [
    "def area_of_hexagon(x):\n",
    "    area = (3*(math.sqrt(3)*(x**2)))/2\n",
    "    return round(area,1)\n",
    "\n",
    "x = int(input('Please enter the side of the hexagon: '))\n",
    "print(area_of_hexagon(x))"
   ]
  },
  {
   "cell_type": "markdown",
   "id": "a7d6afea",
   "metadata": {},
   "source": [
    "# Q5."
   ]
  },
  {
   "cell_type": "code",
   "execution_count": 12,
   "id": "c2a6a07e",
   "metadata": {},
   "outputs": [
    {
     "name": "stdout",
     "output_type": "stream",
     "text": [
      "0\n",
      "1\n",
      "10\n",
      "11\n",
      "100\n",
      "101\n",
      "110\n",
      "111\n",
      "1000\n",
      "1001\n",
      "1010\n",
      "1011\n",
      "1100\n",
      "1101\n",
      "1110\n",
      "1111\n",
      "10000\n",
      "10001\n",
      "10010\n",
      "10011\n",
      "10100\n",
      "10101\n",
      "10110\n",
      "10111\n",
      "11000\n",
      "11001\n",
      "11010\n",
      "11011\n",
      "11100\n",
      "11101\n",
      "11110\n",
      "11111\n",
      "100000\n",
      "100001\n",
      "100010\n",
      "100011\n",
      "100100\n",
      "100101\n",
      "100110\n",
      "100111\n",
      "101000\n",
      "101001\n",
      "101010\n",
      "101011\n",
      "101100\n",
      "101101\n",
      "101110\n",
      "101111\n",
      "110000\n",
      "110001\n",
      "110010\n"
     ]
    }
   ],
   "source": [
    "def binary(n):\n",
    "    return bin(n).replace('0b', '')\n",
    "\n",
    "for i in range(0,51):\n",
    "    print(binary(i))"
   ]
  },
  {
   "cell_type": "code",
   "execution_count": null,
   "id": "76b9e035",
   "metadata": {},
   "outputs": [],
   "source": []
  }
 ],
 "metadata": {
  "kernelspec": {
   "display_name": "Python 3 (ipykernel)",
   "language": "python",
   "name": "python3"
  },
  "language_info": {
   "codemirror_mode": {
    "name": "ipython",
    "version": 3
   },
   "file_extension": ".py",
   "mimetype": "text/x-python",
   "name": "python",
   "nbconvert_exporter": "python",
   "pygments_lexer": "ipython3",
   "version": "3.9.7"
  }
 },
 "nbformat": 4,
 "nbformat_minor": 5
}
