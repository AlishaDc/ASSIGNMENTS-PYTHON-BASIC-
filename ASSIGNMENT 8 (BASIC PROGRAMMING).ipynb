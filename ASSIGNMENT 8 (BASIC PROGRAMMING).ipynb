{
 "cells": [
  {
   "cell_type": "markdown",
   "metadata": {},
   "source": [
    "# Q1."
   ]
  },
  {
   "cell_type": "code",
   "execution_count": 69,
   "metadata": {},
   "outputs": [
    {
     "name": "stdout",
     "output_type": "stream",
     "text": [
      "[11, 12, 13]\n",
      "[14, 15, 16]\n",
      "[17, 18, 19]\n"
     ]
    }
   ],
   "source": [
    "\n",
    "m1 = [[10, 10, 10],[10, 10, 10],[10, 10, 10]]\n",
    "\n",
    "m2 = [[1, 2, 3],[4, 5, 6],[7, 8, 9]]\n",
    "\n",
    "sum = [[0, 0, 0], [0, 0, 0],[0, 0, 0]]\n",
    "\n",
    "for i in range(len(m1)):\n",
    "    for j in range(len(m1[0])):\n",
    "        sum[i][j] = m1[i][j] + m2[i][j]\n",
    "for s in sum:\n",
    "    print(s)"
   ]
  },
  {
   "cell_type": "markdown",
   "metadata": {},
   "source": [
    "# Q2."
   ]
  },
  {
   "cell_type": "code",
   "execution_count": 68,
   "metadata": {},
   "outputs": [
    {
     "name": "stdout",
     "output_type": "stream",
     "text": [
      "[59, 44, 5]\n",
      "[79, 85, 16]\n",
      "[94, 85, 13]\n"
     ]
    }
   ],
   "source": [
    "m1 = [[1,7,3],[5,5,6],[2,8,9]]\n",
    "\n",
    "m2 = [[5,8,2],[6,3,0],[4,5,1]]\n",
    "\n",
    "sum = [[0,0,0],[0,0,0],[0,0,0]]\n",
    "for i in range(len(m1)):\n",
    "    for j in range(len(m2[0])):\n",
    "        for k in range(len(m2)):\n",
    "            sum[i][j] += m1[i][k] * m2[k][j]\n",
    "for s in sum:\n",
    "    print(s)"
   ]
  },
  {
   "cell_type": "code",
   "execution_count": 57,
   "metadata": {},
   "outputs": [],
   "source": [
    "# OR WE CAN MULTIPLY TWO MATRICES IMPORTING NUMPY LIBRARY."
   ]
  },
  {
   "cell_type": "code",
   "execution_count": 58,
   "metadata": {},
   "outputs": [],
   "source": [
    "import numpy as np"
   ]
  },
  {
   "cell_type": "code",
   "execution_count": 59,
   "metadata": {},
   "outputs": [
    {
     "data": {
      "text/plain": [
       "array([[59, 44,  5],\n",
       "       [79, 85, 16],\n",
       "       [94, 85, 13]])"
      ]
     },
     "execution_count": 59,
     "metadata": {},
     "output_type": "execute_result"
    }
   ],
   "source": [
    "m1 = [[1,7,3],[5,5,6],[2,8,9]]\n",
    "m2 = [[5,8,2],[6,3,0],[4,5,1]]\n",
    "np.dot(m1,m2)"
   ]
  },
  {
   "cell_type": "markdown",
   "metadata": {},
   "source": [
    "# Q3."
   ]
  },
  {
   "cell_type": "code",
   "execution_count": 60,
   "metadata": {},
   "outputs": [
    {
     "name": "stdout",
     "output_type": "stream",
     "text": [
      "[5, 6, 5]\n",
      "[8, 3, 6]\n",
      "[2, 0, 8]\n"
     ]
    }
   ],
   "source": [
    "m1 = [[5,8,2],[6,3,0],[5,6,8]]\n",
    "sum = [[0,0,0],[0,0,0],[0,0,0]]\n",
    "for i in range (len(m1)):\n",
    "    for j in range (len(m1[0])):\n",
    "        sum[j][i] = m1[i][j]\n",
    "for s in sum:\n",
    "    print(s)        "
   ]
  },
  {
   "cell_type": "code",
   "execution_count": 61,
   "metadata": {},
   "outputs": [],
   "source": [
    "#or we can import numpy library"
   ]
  },
  {
   "cell_type": "code",
   "execution_count": 62,
   "metadata": {},
   "outputs": [
    {
     "data": {
      "text/plain": [
       "array([[5, 6, 5],\n",
       "       [8, 3, 6],\n",
       "       [2, 0, 8]])"
      ]
     },
     "execution_count": 62,
     "metadata": {},
     "output_type": "execute_result"
    }
   ],
   "source": [
    "import numpy as np\n",
    "m1 = [[5,8,2],[6,3,0],[5,6,8]]\n",
    "np.transpose(m1)"
   ]
  },
  {
   "cell_type": "markdown",
   "metadata": {},
   "source": [
    "# Q4."
   ]
  },
  {
   "cell_type": "code",
   "execution_count": 64,
   "metadata": {},
   "outputs": [
    {
     "name": "stdout",
     "output_type": "stream",
     "text": [
      "Enter a string: what a beautiful day it is\n",
      "The sorted words are:\n",
      "a\n",
      "beautiful\n",
      "day\n",
      "is\n",
      "it\n",
      "what\n"
     ]
    }
   ],
   "source": [
    "str = input('Enter a string: ')\n",
    "words = str.split()\n",
    "words.sort()\n",
    "print('The sorted words are:')\n",
    "for word in words:\n",
    "    print(word)"
   ]
  },
  {
   "cell_type": "markdown",
   "metadata": {},
   "source": [
    "# Q5."
   ]
  },
  {
   "cell_type": "code",
   "execution_count": 67,
   "metadata": {},
   "outputs": [
    {
     "name": "stdout",
     "output_type": "stream",
     "text": [
      "Enter a string: hey!! what's up???\n",
      "hey whats up\n"
     ]
    }
   ],
   "source": [
    "punctuation = '''!()-[]{};:'\"\\,<>./?@#$%^&*_~'''\n",
    "str = input('Enter a string: ')\n",
    "no_punct = \"\"\n",
    "for i in str:\n",
    "    if i not in punctuation:\n",
    "        no_punct = no_punct + i\n",
    "print(no_punct)"
   ]
  }
 ],
 "metadata": {
  "kernelspec": {
   "display_name": "Python 3",
   "language": "python",
   "name": "python3"
  },
  "language_info": {
   "codemirror_mode": {
    "name": "ipython",
    "version": 3
   },
   "file_extension": ".py",
   "mimetype": "text/x-python",
   "name": "python",
   "nbconvert_exporter": "python",
   "pygments_lexer": "ipython3",
   "version": "3.8.5"
  }
 },
 "nbformat": 4,
 "nbformat_minor": 4
}
