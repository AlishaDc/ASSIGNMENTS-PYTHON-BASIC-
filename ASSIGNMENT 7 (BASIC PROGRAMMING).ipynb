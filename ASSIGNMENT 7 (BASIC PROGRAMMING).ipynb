{
 "cells": [
  {
   "cell_type": "markdown",
   "metadata": {},
   "source": [
    "# Q1."
   ]
  },
  {
   "cell_type": "code",
   "execution_count": 3,
   "metadata": {},
   "outputs": [
    {
     "name": "stdout",
     "output_type": "stream",
     "text": [
      "Sum of elements of an array is  10\n"
     ]
    }
   ],
   "source": [
    "array = [1,2,3,4]\n",
    "sum = 0\n",
    "for i in range(0,len(array)):\n",
    "    sum = sum + array[i]\n",
    "print('Sum of elements of an array is ',str(sum))    "
   ]
  },
  {
   "cell_type": "markdown",
   "metadata": {},
   "source": [
    "# Q2."
   ]
  },
  {
   "cell_type": "code",
   "execution_count": 4,
   "metadata": {},
   "outputs": [
    {
     "name": "stdout",
     "output_type": "stream",
     "text": [
      "Largest element in an array is 52\n"
     ]
    }
   ],
   "source": [
    "array = [10,3,45,52,16]\n",
    "max = array[0]\n",
    "for i in range(0,len(array)):\n",
    "    if array[i] > max:\n",
    "        max =array[i]\n",
    "print('Largest element in an array is',str(max))        "
   ]
  },
  {
   "cell_type": "markdown",
   "metadata": {},
   "source": [
    "# Q3."
   ]
  },
  {
   "cell_type": "code",
   "execution_count": 34,
   "metadata": {},
   "outputs": [
    {
     "name": "stdout",
     "output_type": "stream",
     "text": [
      "Original array is \n",
      "1\n",
      "2\n",
      "3\n",
      "4\n",
      "5\n",
      "6\n",
      "7\n",
      "8\n",
      "9\n",
      "Array after left rotation is \n",
      "4\n",
      "5\n",
      "6\n",
      "7\n",
      "8\n",
      "9\n",
      "1\n",
      "2\n",
      "3\n"
     ]
    }
   ],
   "source": [
    "array = [1,2,3,4,5,6,7,8,9]   \n",
    "k = 3  \n",
    "print(\"Original array is \");    \n",
    "for i in range(0, len(array)):    \n",
    "    print(array[i])   \n",
    "for i in range(0, k):   \n",
    "    first = array[0]  \n",
    "        \n",
    "    for j in range(0, len(array)-1):        \n",
    "        array[j] = array[j+1]\n",
    "    array[len(array)-1] = first    \n",
    "     \n",
    "print(\"Array after left rotation is \") \n",
    "for i in range(0, len(array)):    \n",
    "    print(array[i])"
   ]
  },
  {
   "cell_type": "markdown",
   "metadata": {},
   "source": [
    "# Q4."
   ]
  },
  {
   "cell_type": "code",
   "execution_count": 36,
   "metadata": {},
   "outputs": [
    {
     "name": "stdout",
     "output_type": "stream",
     "text": [
      "Array after splitting is [4, 17, 9, 14]\n"
     ]
    }
   ],
   "source": [
    "def split(array, n):\n",
    "    array = array[n:] + array[:n]\n",
    "    return array\n",
    "\n",
    "n = 2\n",
    "array = [9, 14, 4, 17]\n",
    "print('Array after splitting is', split(array, n))"
   ]
  },
  {
   "cell_type": "markdown",
   "metadata": {},
   "source": [
    "# Q5."
   ]
  },
  {
   "cell_type": "code",
   "execution_count": 37,
   "metadata": {},
   "outputs": [
    {
     "name": "stdout",
     "output_type": "stream",
     "text": [
      "False\n"
     ]
    }
   ],
   "source": [
    "def CheckMonotonic(A):\n",
    "    return (all(A[i] <= A[i + 1] for i in range(len(A) - 1)) or\n",
    "      all(A[i] >= A[i + 1] for i in range(len(A) - 1)))\n",
    "\n",
    "array = [1,8,12,9]\n",
    "print(CheckMonotonic(array))"
   ]
  },
  {
   "cell_type": "code",
   "execution_count": null,
   "metadata": {},
   "outputs": [],
   "source": []
  }
 ],
 "metadata": {
  "kernelspec": {
   "display_name": "Python 3",
   "language": "python",
   "name": "python3"
  },
  "language_info": {
   "codemirror_mode": {
    "name": "ipython",
    "version": 3
   },
   "file_extension": ".py",
   "mimetype": "text/x-python",
   "name": "python",
   "nbconvert_exporter": "python",
   "pygments_lexer": "ipython3",
   "version": "3.8.5"
  }
 },
 "nbformat": 4,
 "nbformat_minor": 4
}
