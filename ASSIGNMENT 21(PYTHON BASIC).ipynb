{
 "cells": [
  {
   "cell_type": "markdown",
   "metadata": {},
   "source": [
    "# Q1."
   ]
  },
  {
   "cell_type": "code",
   "execution_count": 1,
   "metadata": {},
   "outputs": [
    {
     "data": {
      "text/plain": [
       "'2021-09-20'"
      ]
     },
     "execution_count": 1,
     "metadata": {},
     "output_type": "execute_result"
    }
   ],
   "source": [
    "import datetime\n",
    "from datetime import date\n",
    "now = date.today()\n",
    "cur_date = now.isoformat()\n",
    "cur_date"
   ]
  },
  {
   "cell_type": "code",
   "execution_count": 2,
   "metadata": {},
   "outputs": [],
   "source": [
    "with open('today.txt','w') as file:\n",
    "    file.write(cur_date)"
   ]
  },
  {
   "cell_type": "markdown",
   "metadata": {},
   "source": [
    "# Q2. "
   ]
  },
  {
   "cell_type": "code",
   "execution_count": 4,
   "metadata": {},
   "outputs": [
    {
     "data": {
      "text/plain": [
       "'2021-09-20'"
      ]
     },
     "execution_count": 4,
     "metadata": {},
     "output_type": "execute_result"
    }
   ],
   "source": [
    "with open('today.txt','r') as file:\n",
    "    today_string = file.read()\n",
    "today_string"
   ]
  },
  {
   "cell_type": "markdown",
   "metadata": {},
   "source": [
    "# Q3."
   ]
  },
  {
   "cell_type": "code",
   "execution_count": 5,
   "metadata": {},
   "outputs": [
    {
     "data": {
      "text/plain": [
       "datetime.datetime(2021, 9, 20, 0, 0)"
      ]
     },
     "execution_count": 5,
     "metadata": {},
     "output_type": "execute_result"
    }
   ],
   "source": [
    "from datetime import datetime\n",
    "format = '%Y-%m-%d'\n",
    "datetime.strptime(today_string,format)"
   ]
  },
  {
   "cell_type": "markdown",
   "metadata": {},
   "source": [
    "# Q4."
   ]
  },
  {
   "cell_type": "code",
   "execution_count": 6,
   "metadata": {},
   "outputs": [
    {
     "data": {
      "text/plain": [
       "['.astropy',\n",
       " '.conda',\n",
       " '.condarc',\n",
       " '.cufflinks',\n",
       " '.ipynb_checkpoints',\n",
       " '.ipython',\n",
       " '.jupyter',\n",
       " '.matplotlib',\n",
       " '.vscode',\n",
       " '20th MARCH TUPLE,SET AND DICT.ipynb',\n",
       " '3D Objects',\n",
       " '6AM PRACTICE SESSIONS AND ONE PROJECT',\n",
       " 'anaconda3',\n",
       " 'AppData',\n",
       " 'Application Data',\n",
       " 'ASSIGNMENT 1 (PYTHON BASIC).ipynb',\n",
       " 'ASSIGNMENT 10 (PYTHON BASIC).ipynb',\n",
       " 'ASSIGNMENT 11(PYTHON BASIC).ipynb',\n",
       " 'ASSIGNMENT 12 (PYTHON BASIC).ipynb',\n",
       " 'Assignment 13 (PYTHON BASIC).ipynb',\n",
       " 'ASSIGNMENT 14 (PYTHON BASIC).ipynb',\n",
       " 'ASSIGNMENT 15 (PYTHON BASIC).ipynb',\n",
       " 'ASSIGNMENT 16 (PYTHON BASIC).ipynb',\n",
       " 'ASSIGNMENT 17 PB.ipynb',\n",
       " 'ASSIGNMENT 19(PYTHON BASIC).ipynb',\n",
       " 'ASSIGNMENT 2 PYTHON BASIC.ipynb',\n",
       " 'ASSIGNMENT 20(PYTHON BASIC).ipynb',\n",
       " 'ASSIGNMENT 21(PYTHON BASIC).ipynb',\n",
       " 'ASSIGNMENT 22(PYTHON BASIC) .ipynb',\n",
       " 'ASSIGNMENT 23 (PYTHON BASIC).ipynb',\n",
       " 'ASSIGNMENT 24(PYTHON BASIC).ipynb',\n",
       " 'ASSIGNMENT 25 (PYTHON BASIC).ipynb',\n",
       " 'ASSIGNMENT 3 (PYTHON BASIC).ipynb',\n",
       " 'ASSIGNMENT 4 (PYTHON BASIC) .ipynb',\n",
       " 'ASSIGNMENT 5 (PYTHON BASIC).ipynb',\n",
       " 'ASSIGNMENT 6 (PYTHON BASIC).ipynb',\n",
       " 'ASSIGNMENT 7 (PYTHON BASIC).ipynb',\n",
       " 'ASSIGNMENT 8 (PYTHON BASIC).ipynb',\n",
       " 'ASSIGNMENT 9 (PYTHON BASIC).ipynb',\n",
       " 'books.csv',\n",
       " 'books.db',\n",
       " 'BullseyeCoverageError.txt',\n",
       " 'Contacts',\n",
       " 'Cookies',\n",
       " 'Documents',\n",
       " 'Favorites',\n",
       " 'FEBRUARY 28TH 2021.ipynb',\n",
       " 'HACKERRANK PROBLEM PRACTICE',\n",
       " 'INEURON CLASSES',\n",
       " 'Links',\n",
       " 'Local Settings',\n",
       " 'MARCH 13TH STRING AND LIST MANIPULATION.ipynb',\n",
       " 'MARCH 14TH LIST MANIPULATION.ipynb',\n",
       " 'MARCH 6TH 2021 WHILE LOOP.ipynb',\n",
       " 'MARCH 7TH 2021.ipynb',\n",
       " 'MON 6TH SEP 2021.txt',\n",
       " 'Music',\n",
       " 'My Documents',\n",
       " 'NetHood',\n",
       " 'NTUSER.DAT',\n",
       " 'ntuser.dat.LOG1',\n",
       " 'ntuser.dat.LOG2',\n",
       " 'NTUSER.DAT{53b39e87-18c4-11ea-a811-000d3aa4692b}.TxR.0.regtrans-ms',\n",
       " 'NTUSER.DAT{53b39e87-18c4-11ea-a811-000d3aa4692b}.TxR.1.regtrans-ms',\n",
       " 'NTUSER.DAT{53b39e87-18c4-11ea-a811-000d3aa4692b}.TxR.2.regtrans-ms',\n",
       " 'NTUSER.DAT{53b39e87-18c4-11ea-a811-000d3aa4692b}.TxR.blf',\n",
       " 'NTUSER.DAT{53b39e88-18c4-11ea-a811-000d3aa4692b}.TM.blf',\n",
       " 'NTUSER.DAT{53b39e88-18c4-11ea-a811-000d3aa4692b}.TMContainer00000000000000000001.regtrans-ms',\n",
       " 'NTUSER.DAT{53b39e88-18c4-11ea-a811-000d3aa4692b}.TMContainer00000000000000000002.regtrans-ms',\n",
       " 'NTUSER.DAT{bb1e3124-3b98-11eb-a52b-d0c5d3e9c30e}.TxR.0.regtrans-ms',\n",
       " 'NTUSER.DAT{bb1e3124-3b98-11eb-a52b-d0c5d3e9c30e}.TxR.1.regtrans-ms',\n",
       " 'NTUSER.DAT{bb1e3124-3b98-11eb-a52b-d0c5d3e9c30e}.TxR.2.regtrans-ms',\n",
       " 'NTUSER.DAT{bb1e3124-3b98-11eb-a52b-d0c5d3e9c30e}.TxR.blf',\n",
       " 'NTUSER.DAT{bb1e3125-3b98-11eb-a52b-d0c5d3e9c30e}.TM.blf',\n",
       " 'NTUSER.DAT{bb1e3125-3b98-11eb-a52b-d0c5d3e9c30e}.TMContainer00000000000000000001.regtrans-ms',\n",
       " 'NTUSER.DAT{bb1e3125-3b98-11eb-a52b-d0c5d3e9c30e}.TMContainer00000000000000000002.regtrans-ms',\n",
       " 'ntuser.ini',\n",
       " 'OneDrive',\n",
       " 'Pictures',\n",
       " 'Postman',\n",
       " 'PrintHood',\n",
       " 'programLog.txt',\n",
       " 'PycharmProjects',\n",
       " 'PYTHON ADVANCE ASSIGNMENTS',\n",
       " 'PYTHON BASIC PROGRAMMING ASSIGNMENTS',\n",
       " 'Recent',\n",
       " 'Saved Games',\n",
       " 'seaborn-data',\n",
       " 'Searches',\n",
       " 'SendTo',\n",
       " 'Start Menu',\n",
       " 'Templates',\n",
       " 'test.txt',\n",
       " 'today.txt',\n",
       " 'Tracing',\n",
       " 'Untitled.ipynb',\n",
       " 'Videos',\n",
       " 'zoo.py',\n",
       " '__pycache__']"
      ]
     },
     "execution_count": 6,
     "metadata": {},
     "output_type": "execute_result"
    }
   ],
   "source": [
    "import os\n",
    "os.listdir('.')"
   ]
  },
  {
   "cell_type": "markdown",
   "metadata": {},
   "source": [
    "# Q5."
   ]
  },
  {
   "cell_type": "code",
   "execution_count": 7,
   "metadata": {},
   "outputs": [
    {
     "data": {
      "text/plain": [
       "['alish',\n",
       " 'All Users',\n",
       " 'Default',\n",
       " 'Default User',\n",
       " 'defaultuser100000',\n",
       " 'defaultuser100000.LAPTOP-J7JKOCAC',\n",
       " 'defaultuser100000.LAPTOP-J7JKOCAC.000',\n",
       " 'defaultuser100000.LAPTOP-J7JKOCAC.001',\n",
       " 'defaultuser100000.LAPTOP-J7JKOCAC.002',\n",
       " 'defaultuser100000.LAPTOP-J7JKOCAC.003',\n",
       " 'defaultuser100000.LAPTOP-J7JKOCAC.004',\n",
       " 'defaultuser100000.LAPTOP-J7JKOCAC.005',\n",
       " 'defaultuser100000.LAPTOP-J7JKOCAC.006',\n",
       " 'defaultuser100001',\n",
       " 'defaultuser100001.LAPTOP-J7JKOCAC',\n",
       " 'desktop.ini',\n",
       " 'Public']"
      ]
     },
     "execution_count": 7,
     "metadata": {},
     "output_type": "execute_result"
    }
   ],
   "source": [
    "os.listdir('..')"
   ]
  },
  {
   "cell_type": "markdown",
   "metadata": {},
   "source": [
    "# Q6."
   ]
  },
  {
   "cell_type": "code",
   "execution_count": 1,
   "metadata": {},
   "outputs": [],
   "source": [
    "import multiprocessing\n",
    "\n",
    "def printsec(seconds):\n",
    "    from datetime import datetime\n",
    "    from time import sleep\n",
    "    sleep(seconds)\n",
    "    print('wait', seconds, 'seconds, time is', datetime.utcnow())\n",
    "    \n",
    "if __name__ == '__main__':\n",
    "    import random    \n",
    "    for n in range(3):\n",
    "        seconds = random.random()\n",
    "        proc = multiprocessing.Process(target=printsec, args=(seconds,))\n",
    "        proc.start()"
   ]
  },
  {
   "cell_type": "code",
   "execution_count": 2,
   "metadata": {},
   "outputs": [
    {
     "name": "stdout",
     "output_type": "stream",
     "text": [
      "wait 0.34067178103248574 seconds, time is 2021-09-20 18:22:55.432438\n",
      "wait 0.12092390403469555 seconds, time is 2021-09-20 18:22:55.472470\n",
      "wait 0.6603616436491033 seconds, time is 2021-09-20 18:22:56.032983\n"
     ]
    }
   ],
   "source": [
    "!python multi.py"
   ]
  },
  {
   "cell_type": "markdown",
   "metadata": {},
   "source": [
    "# Q7."
   ]
  },
  {
   "cell_type": "code",
   "execution_count": 14,
   "metadata": {},
   "outputs": [
    {
     "data": {
      "text/plain": [
       "datetime.date(1998, 5, 5)"
      ]
     },
     "execution_count": 14,
     "metadata": {},
     "output_type": "execute_result"
    }
   ],
   "source": [
    "my_date = date(1998,5, 5)\n",
    "my_date"
   ]
  },
  {
   "cell_type": "markdown",
   "metadata": {},
   "source": [
    "# Q8."
   ]
  },
  {
   "cell_type": "code",
   "execution_count": 15,
   "metadata": {},
   "outputs": [
    {
     "data": {
      "text/plain": [
       "1"
      ]
     },
     "execution_count": 15,
     "metadata": {},
     "output_type": "execute_result"
    }
   ],
   "source": [
    "my_date.weekday()"
   ]
  },
  {
   "cell_type": "markdown",
   "metadata": {},
   "source": [
    "# Q9."
   ]
  },
  {
   "cell_type": "code",
   "execution_count": 16,
   "metadata": {},
   "outputs": [
    {
     "data": {
      "text/plain": [
       "datetime.date(2025, 9, 20)"
      ]
     },
     "execution_count": 16,
     "metadata": {},
     "output_type": "execute_result"
    }
   ],
   "source": [
    "from datetime import timedelta\n",
    "day10000 = my_date + timedelta(days=10000)\n",
    "day10000"
   ]
  },
  {
   "cell_type": "code",
   "execution_count": null,
   "metadata": {},
   "outputs": [],
   "source": []
  }
 ],
 "metadata": {
  "kernelspec": {
   "display_name": "Python 3",
   "language": "python",
   "name": "python3"
  },
  "language_info": {
   "codemirror_mode": {
    "name": "ipython",
    "version": 3
   },
   "file_extension": ".py",
   "mimetype": "text/x-python",
   "name": "python",
   "nbconvert_exporter": "python",
   "pygments_lexer": "ipython3",
   "version": "3.8.5"
  }
 },
 "nbformat": 4,
 "nbformat_minor": 4
}
