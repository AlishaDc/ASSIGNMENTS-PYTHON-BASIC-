{
 "cells": [
  {
   "cell_type": "markdown",
   "id": "0bb363ad",
   "metadata": {},
   "source": [
    "# Q1."
   ]
  },
  {
   "cell_type": "code",
   "execution_count": 2,
   "id": "b0737c35",
   "metadata": {},
   "outputs": [
    {
     "name": "stdout",
     "output_type": "stream",
     "text": [
      "Enter a range: 55\n",
      "0 7 14 21 28 35 42 49 "
     ]
    }
   ],
   "source": [
    "def gen(n):\n",
    "    for i in range(n):\n",
    "        if i%7 == 0:\n",
    "            yield i\n",
    "\n",
    "n = int(input('Enter a range: '))\n",
    "for i in gen(n):\n",
    "    print(i, end=' ')"
   ]
  },
  {
   "cell_type": "markdown",
   "id": "575525da",
   "metadata": {},
   "source": [
    "# Q2."
   ]
  },
  {
   "cell_type": "code",
   "execution_count": 3,
   "id": "56e4f218",
   "metadata": {},
   "outputs": [
    {
     "name": "stdout",
     "output_type": "stream",
     "text": [
      "2:2\n",
      "3.:1\n",
      "3?:1\n",
      "New:1\n",
      "Python:5\n",
      "Read:1\n",
      "and:1\n",
      "between:1\n",
      "choosing:1\n",
      "or:2\n",
      "to:1\n"
     ]
    }
   ],
   "source": [
    "def frequency(string):\n",
    "    word = sorted(set(string.split()))\n",
    "    for i in word:\n",
    "        print(f'{i}:{string.count(i)}')\n",
    "\n",
    "frequency(\"New to Python or choosing between Python 2 and Python 3? Read Python 2 or Python 3.\")"
   ]
  },
  {
   "cell_type": "markdown",
   "id": "a36e6cb0",
   "metadata": {},
   "source": [
    "# Q3."
   ]
  },
  {
   "cell_type": "code",
   "execution_count": 4,
   "id": "27ee2b0e",
   "metadata": {},
   "outputs": [
    {
     "name": "stdout",
     "output_type": "stream",
     "text": [
      "Male\n",
      "Female\n"
     ]
    }
   ],
   "source": [
    "class Person:\n",
    "    def __init__(self):\n",
    "        pass\n",
    "    def getGender(self):\n",
    "        return 'This is a parent class.'\n",
    "\n",
    "class Male:\n",
    "    def __inti__(self):\n",
    "        pass\n",
    "    def getGender(self):\n",
    "        return 'Male'\n",
    "    \n",
    "class Female:\n",
    "    def __inti__(self):\n",
    "        pass\n",
    "    def getGender(self):\n",
    "        return 'Female'\n",
    "    \n",
    "objMale = Male()\n",
    "objFemale= Female()\n",
    "print(objMale.getGender())\n",
    "print(objFemale.getGender())"
   ]
  },
  {
   "cell_type": "markdown",
   "id": "8afa24fe",
   "metadata": {},
   "source": [
    "# Q4."
   ]
  },
  {
   "cell_type": "code",
   "execution_count": 5,
   "id": "0a2440b0",
   "metadata": {},
   "outputs": [
    {
     "name": "stdout",
     "output_type": "stream",
     "text": [
      "I Play Hockey\n",
      "I Play Football\n",
      "I Love Hockey\n",
      "I Love Football\n",
      "You Play Hockey\n",
      "You Play Football\n",
      "You Love Hockey\n",
      "You Love Football\n"
     ]
    }
   ],
   "source": [
    "subject = [\"I\", \"You\"]\n",
    "verb = [\"Play\", \"Love\"]\n",
    "object =[\"Hockey\",\"Football\"]\n",
    "\n",
    "sentences = [(sub + ' ' + vb + ' ' + ob) for sub in subject for vb in verb for ob in object]\n",
    "\n",
    "for sen in sentences:\n",
    "    print(sen)"
   ]
  },
  {
   "cell_type": "markdown",
   "id": "1deae776",
   "metadata": {},
   "source": [
    "# Q5."
   ]
  },
  {
   "cell_type": "code",
   "execution_count": 6,
   "id": "1f3c942c",
   "metadata": {},
   "outputs": [
    {
     "name": "stdout",
     "output_type": "stream",
     "text": [
      "b'\\x1f\\x8b\\x08\\x00Y\\xf0Ob\\x02\\xff\\xcbH\\xcd\\xc9\\xc9W(\\xcf/\\xcaIQ\\xcc \\x82\\r\\x00\\xd3\\xe6\\xcf\\xae0\\x00\\x00\\x00'\n",
      "b'hello world!hello world!hello world!hello world!'\n"
     ]
    }
   ],
   "source": [
    "import gzip\n",
    "s = 'hello world!hello world!hello world!hello world!'\n",
    "\n",
    "# In Python 3 zlib.compress() accepts only DataType <bytes>\n",
    "\n",
    "y = bytes(s, 'utf-8')\n",
    "x = gzip.compress(y)\n",
    "\n",
    "print(x)\n",
    "print(gzip.decompress(x))"
   ]
  },
  {
   "cell_type": "markdown",
   "id": "b394b82d",
   "metadata": {},
   "source": [
    "# Q6."
   ]
  },
  {
   "cell_type": "code",
   "execution_count": 11,
   "id": "f62219ae",
   "metadata": {},
   "outputs": [
    {
     "name": "stdout",
     "output_type": "stream",
     "text": [
      "Enter the number to search: 86\n",
      "86 is present at 9\n"
     ]
    }
   ],
   "source": [
    "list = [5,14,23,32,41,50,68,77,86,104]\n",
    "\n",
    "pos = -1\n",
    "\n",
    "def search(list, n):\n",
    "    l = 0\n",
    "    u = len(list) - 1\n",
    "    \n",
    "    while l <= u:\n",
    "        mid = (l+u)//2\n",
    "        if list[mid] == n:\n",
    "            globals()['pos'] = mid\n",
    "            return True\n",
    "        else:\n",
    "            if list[mid] < n:\n",
    "                l = mid + 1\n",
    "            else:\n",
    "                u = mid - 1\n",
    "    return False\n",
    "\n",
    "n = int(input('Enter the number to search: '))\n",
    "\n",
    "if search(list,n):\n",
    "    print(f'{n} is present at {pos+1}')\n",
    "else:\n",
    "    print('Not Found')"
   ]
  },
  {
   "cell_type": "code",
   "execution_count": null,
   "id": "62d82f1f",
   "metadata": {},
   "outputs": [],
   "source": []
  }
 ],
 "metadata": {
  "kernelspec": {
   "display_name": "Python 3 (ipykernel)",
   "language": "python",
   "name": "python3"
  },
  "language_info": {
   "codemirror_mode": {
    "name": "ipython",
    "version": 3
   },
   "file_extension": ".py",
   "mimetype": "text/x-python",
   "name": "python",
   "nbconvert_exporter": "python",
   "pygments_lexer": "ipython3",
   "version": "3.9.7"
  }
 },
 "nbformat": 4,
 "nbformat_minor": 5
}
