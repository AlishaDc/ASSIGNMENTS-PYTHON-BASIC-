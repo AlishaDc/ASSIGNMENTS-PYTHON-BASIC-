{
 "cells": [
  {
   "cell_type": "markdown",
   "metadata": {},
   "source": [
    "# Q1."
   ]
  },
  {
   "cell_type": "code",
   "execution_count": 2,
   "metadata": {},
   "outputs": [
    {
     "name": "stdout",
     "output_type": "stream",
     "text": [
      "The dictionary is : \n",
      "{'ten': [5, 3, 8, 0], 'twenty': [19, 11, 15, 16], 'thirty': [21, 26, 24], 'forty': [39, 35, 32], 'fifty': [5, 10, 81]}\n",
      "The unique values are : \n",
      "[0, 3, 5, 8, 10, 11, 15, 16, 19, 21, 24, 26, 32, 35, 39, 81]\n"
     ]
    }
   ],
   "source": [
    "dict = {'ten' : [5,3,8,0],\n",
    "        'twenty' : [19,11,15,16],\n",
    "        'thirty' : [21,26,24],\n",
    "        'forty' : [39,35,32],\n",
    "        'fifty' : [5,10,81]}\n",
    "\n",
    "print(\"The dictionary is : \")\n",
    "print(dict)\n",
    "\n",
    "result = list(sorted({i for val in dict.values() for i in val}))\n",
    "\n",
    "print(\"The unique values are : \")\n",
    "print(result)"
   ]
  },
  {
   "cell_type": "markdown",
   "metadata": {},
   "source": [
    "# Q2."
   ]
  },
  {
   "cell_type": "code",
   "execution_count": 5,
   "metadata": {},
   "outputs": [
    {
     "name": "stdout",
     "output_type": "stream",
     "text": [
      "Sum of all the items in the dictionary is 60\n"
     ]
    }
   ],
   "source": [
    "def getSum(dict):\n",
    "    sum = 0\n",
    "    for i in dict:\n",
    "        sum = sum + dict[i]\n",
    "    return sum\n",
    "dict = {'x': 10, 'y':20, 'z':30}\n",
    "print(\"Sum of all the items in the dictionary is\", getSum(dict))"
   ]
  },
  {
   "cell_type": "markdown",
   "metadata": {},
   "source": [
    "# Q3."
   ]
  },
  {
   "cell_type": "code",
   "execution_count": 8,
   "metadata": {},
   "outputs": [
    {
     "name": "stdout",
     "output_type": "stream",
     "text": [
      "None\n",
      "{'z': 8, 'w': 2, 'x': 11, 'y': 5}\n"
     ]
    }
   ],
   "source": [
    "def merge(dict, dict1):\n",
    "    return(dict1.update(dict))\n",
    "     \n",
    "dict = {'x': 11, 'y': 5}\n",
    "dict1 = {'z': 8, 'w': 2}\n",
    "print(merge(dict, dict1))\n",
    "print(dict1)"
   ]
  },
  {
   "cell_type": "markdown",
   "metadata": {},
   "source": [
    "# Q4."
   ]
  },
  {
   "cell_type": "code",
   "execution_count": 5,
   "metadata": {},
   "outputs": [
    {
     "name": "stdout",
     "output_type": "stream",
     "text": [
      "The dictionary is  {'birth_year': [1998, 1995, 1967, 1952], 'name': ['Alisha', 'Olison', 'Catherine', 'John']}\n",
      "The flattened dictionary is {1998: 'Alisha', 1995: 'Olison', 1967: 'Catherine', 1952: 'John'}\n"
     ]
    }
   ],
   "source": [
    "from itertools import product\n",
    "\n",
    "dict1 = {'birth_year' : [1998,1995,1967,1952], 'name' : ['Alisha', 'Olison', 'Catherine', 'John']}\n",
    "print('The dictionary is ',dict1)\n",
    "result = dict(zip(dict1['birth_year'],dict1['name']))\n",
    "print('The flattened dictionary is',result)"
   ]
  },
  {
   "cell_type": "markdown",
   "metadata": {},
   "source": [
    "# Q5."
   ]
  },
  {
   "cell_type": "code",
   "execution_count": 14,
   "metadata": {},
   "outputs": [
    {
     "name": "stdout",
     "output_type": "stream",
     "text": [
      "Original dictionary: OrderedDict([('Orange', '2'), ('Apple', '3'), ('Grapes', '4')])\n",
      "New dictionary: OrderedDict([('Cherry', '1'), ('Orange', '2'), ('Apple', '3'), ('Grapes', '4')])\n"
     ]
    }
   ],
   "source": [
    "from collections import OrderedDict\n",
    "dict = OrderedDict([('Orange', '2'), ('Apple', '3'), ('Grapes', '4')])\n",
    "print('Original dictionary:',dict)\n",
    "dict.update({'Cherry':'1'})\n",
    "dict.move_to_end('Cherry', last = False)\n",
    "print('New dictionary:',dict)"
   ]
  },
  {
   "cell_type": "markdown",
   "metadata": {},
   "source": [
    "# Q6."
   ]
  },
  {
   "cell_type": "code",
   "execution_count": 25,
   "metadata": {},
   "outputs": [
    {
     "name": "stdout",
     "output_type": "stream",
     "text": [
      "The string is  Hey Alisha\n",
      "The input pattern is  Al\n",
      "The order of pattern is correct\n"
     ]
    }
   ],
   "source": [
    "from collections import OrderedDict\n",
    "def check(input,pattern):\n",
    "    dict = OrderedDict.fromkeys(input)\n",
    "    length = 0\n",
    "    for key,value in dict.items():\n",
    "        if (key == pattern[length]):\n",
    "            length = length + 1\n",
    "        if (length == (len(pattern))):\n",
    "            return 'The order of pattern is correct'\n",
    "    return 'The order of pattern is incorrect'\n",
    "\n",
    "input = 'Hey Alisha'\n",
    "input_pattern = 'Al'\n",
    "print(\"The string is \",input)\n",
    "print(\"The input pattern is \",input_pattern)\n",
    "print(check(input,input_pattern))"
   ]
  },
  {
   "cell_type": "markdown",
   "metadata": {},
   "source": [
    "# Q7."
   ]
  },
  {
   "cell_type": "code",
   "execution_count": 31,
   "metadata": {},
   "outputs": [
    {
     "name": "stdout",
     "output_type": "stream",
     "text": [
      "{'John': 4, 'Alisha': 5, 'OLison': 9}\n"
     ]
    }
   ],
   "source": [
    "# SORT BY VALUES\n",
    "dict = {'Alisha': 5, 'OLison': 9, 'John': 4}\n",
    "sort_values = sorted(dict.values())\n",
    "sort_dict = {}\n",
    "\n",
    "for i in sort_values:\n",
    "    for k in dict.keys():\n",
    "        if dict[k] == i:\n",
    "            sort_dict[k] = dict[k]\n",
    "            break\n",
    "\n",
    "print(sort_dict)"
   ]
  },
  {
   "cell_type": "code",
   "execution_count": null,
   "metadata": {},
   "outputs": [],
   "source": []
  }
 ],
 "metadata": {
  "kernelspec": {
   "display_name": "Python 3",
   "language": "python",
   "name": "python3"
  },
  "language_info": {
   "codemirror_mode": {
    "name": "ipython",
    "version": 3
   },
   "file_extension": ".py",
   "mimetype": "text/x-python",
   "name": "python",
   "nbconvert_exporter": "python",
   "pygments_lexer": "ipython3",
   "version": "3.8.5"
  }
 },
 "nbformat": 4,
 "nbformat_minor": 4
}
