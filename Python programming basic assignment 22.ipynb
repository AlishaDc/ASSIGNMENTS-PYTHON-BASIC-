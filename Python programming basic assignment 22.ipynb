{
 "cells": [
  {
   "cell_type": "markdown",
   "id": "1fa53892",
   "metadata": {},
   "source": [
    "# Q1."
   ]
  },
  {
   "cell_type": "code",
   "execution_count": 1,
   "id": "afdff5a4",
   "metadata": {},
   "outputs": [
    {
     "name": "stdout",
     "output_type": "stream",
     "text": [
      "[3, 6, 9]\n",
      "[8]\n",
      "[]\n"
     ]
    }
   ],
   "source": [
    "def list_operation(x,y,n):\n",
    "    list = []\n",
    "    for i in range(x,y+1):\n",
    "        if i%n == 0:\n",
    "            list.append(i)\n",
    "    return list\n",
    "\n",
    "print(list_operation(1, 10, 3))\n",
    "print(list_operation(7, 9, 2) )\n",
    "print(list_operation(15, 20, 7))  "
   ]
  },
  {
   "cell_type": "markdown",
   "id": "7e442585",
   "metadata": {},
   "source": [
    "# Q2."
   ]
  },
  {
   "cell_type": "code",
   "execution_count": 2,
   "id": "c3345255",
   "metadata": {},
   "outputs": [
    {
     "name": "stdout",
     "output_type": "stream",
     "text": [
      "True\n",
      "False\n",
      "True\n",
      "False\n"
     ]
    }
   ],
   "source": [
    "def simon_says(list1, list2):\n",
    "    if list1[0:len(list1)-1] == list2[1:len(list2)]:\n",
    "        return True\n",
    "    return False\n",
    "print(simon_says([1, 2], [5, 1]))\n",
    "print(simon_says([1, 2], [5, 5]))\n",
    "print(simon_says([1, 2, 3, 4, 5], [0, 1, 2, 3, 4]))\n",
    "print(simon_says([1, 2, 3, 4, 5], [5, 5, 1, 2, 3]))"
   ]
  },
  {
   "cell_type": "markdown",
   "id": "82dfdc73",
   "metadata": {},
   "source": [
    "# Q3."
   ]
  },
  {
   "cell_type": "code",
   "execution_count": 3,
   "id": "e0e0ca63",
   "metadata": {},
   "outputs": [
    {
     "name": "stdout",
     "output_type": "stream",
     "text": [
      "AMS\n",
      "CHLN\n",
      "CJMPRR\n"
     ]
    }
   ],
   "source": [
    "def society_name(list):\n",
    "    name = []\n",
    "    for i in sorted(list):\n",
    "        name.append(i[0])\n",
    "    return ''.join(name)\n",
    "\n",
    "print(society_name([\"Adam\", \"Sarah\", \"Malcolm\"]))\n",
    "print(society_name([\"Harry\", \"Newt\", \"Luna\", \"Cho\"]))\n",
    "print(society_name([\"Phoebe\", \"Chandler\", \"Rachel\", \"Ross\", \"Monica\", \"Joey\"]))"
   ]
  },
  {
   "cell_type": "markdown",
   "id": "51ac470d",
   "metadata": {},
   "source": [
    "# Q4."
   ]
  },
  {
   "cell_type": "code",
   "execution_count": 4,
   "id": "77986106",
   "metadata": {},
   "outputs": [
    {
     "name": "stdout",
     "output_type": "stream",
     "text": [
      "True\n",
      "False\n",
      "False\n"
     ]
    }
   ],
   "source": [
    "def is_isogram(str):\n",
    "    for i in range(len(str)):\n",
    "        if str.lower().count(str[i]) > 1:\n",
    "            return False\n",
    "    else:\n",
    "        return True\n",
    "\n",
    "print(is_isogram(\"Algorism\"))\n",
    "print(is_isogram(\"PasSword\"))\n",
    "print(is_isogram(\"Consecutive\"))"
   ]
  },
  {
   "cell_type": "markdown",
   "id": "d811e5b2",
   "metadata": {},
   "source": [
    "# Q5."
   ]
  },
  {
   "cell_type": "code",
   "execution_count": 5,
   "id": "bf529752",
   "metadata": {},
   "outputs": [
    {
     "name": "stdout",
     "output_type": "stream",
     "text": [
      "True\n",
      "False\n",
      "True\n",
      "True\n"
     ]
    }
   ],
   "source": [
    "def is_in_order(str):\n",
    "    if str == ''.join(sorted(str)):\n",
    "        return True\n",
    "    else:\n",
    "        return False\n",
    "    \n",
    "print(is_in_order(\"abc\"))\n",
    "print(is_in_order(\"edabit\"))\n",
    "print(is_in_order(\"123\"))\n",
    "print(is_in_order(\"xyzz\"))"
   ]
  },
  {
   "cell_type": "markdown",
   "id": "46bba532",
   "metadata": {},
   "source": []
  }
 ],
 "metadata": {
  "kernelspec": {
   "display_name": "Python 3 (ipykernel)",
   "language": "python",
   "name": "python3"
  },
  "language_info": {
   "codemirror_mode": {
    "name": "ipython",
    "version": 3
   },
   "file_extension": ".py",
   "mimetype": "text/x-python",
   "name": "python",
   "nbconvert_exporter": "python",
   "pygments_lexer": "ipython3",
   "version": "3.9.7"
  }
 },
 "nbformat": 4,
 "nbformat_minor": 5
}
