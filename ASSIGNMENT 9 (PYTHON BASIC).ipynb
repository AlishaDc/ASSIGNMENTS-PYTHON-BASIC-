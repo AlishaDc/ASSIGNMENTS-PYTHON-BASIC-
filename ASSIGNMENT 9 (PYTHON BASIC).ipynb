{
 "cells": [
  {
   "cell_type": "markdown",
   "metadata": {},
   "source": [
    "# Q1.\n",
    "\n",
    "\n",
    "\n",
    "Relative Path refer to the path of the file from the current working directory."
   ]
  },
  {
   "cell_type": "markdown",
   "metadata": {},
   "source": [
    "# Q2.\n",
    "\n",
    "An absolute path always begins with the root folder such as C:\\ or /"
   ]
  },
  {
   "cell_type": "markdown",
   "metadata": {},
   "source": [
    "# Q3.\n",
    "\n",
    "The os.getcwd() function returns the current working directory as a string value and the os.chdir() function changes the current working directory to the argument."
   ]
  },
  {
   "cell_type": "markdown",
   "metadata": {},
   "source": [
    "# Q4.\n",
    "\n",
    "A single period (.) folder is the current folder or 'this directory'  and two periods (..) is the parent folder."
   ]
  },
  {
   "cell_type": "markdown",
   "metadata": {},
   "source": [
    "# Q5.    \n",
    "\n",
    "C:\\bacon\\eggs\\ is the dir name and spam.txt is the base name."
   ]
  },
  {
   "cell_type": "markdown",
   "metadata": {},
   "source": [
    "# Q6.  \n",
    "\n",
    "The three mode arguments that can be passed to the open() function is the string 'r' for read mode, 'w' for write mode and 'a' for append mode. The syntax is open(filename, mode)."
   ]
  },
  {
   "cell_type": "markdown",
   "metadata": {},
   "source": [
    "# Q7.            \n",
    "\n",
    "If an existing file is opened in write mode it's erased and completely overwritten from scratch."
   ]
  },
  {
   "cell_type": "markdown",
   "metadata": {},
   "source": [
    "# Q8.     \n",
    "\n",
    "The read() method returns the entire contents of a file as a single large string value.        \n",
    "\n",
    "The readlines() returns a list of strings, where each string is a line from the files content."
   ]
  },
  {
   "cell_type": "markdown",
   "metadata": {},
   "source": [
    "# Q9.      \n",
    "\n",
    "A shelf value resembles a dictionary data structure. "
   ]
  }
 ],
 "metadata": {
  "kernelspec": {
   "display_name": "Python 3",
   "language": "python",
   "name": "python3"
  },
  "language_info": {
   "codemirror_mode": {
    "name": "ipython",
    "version": 3
   },
   "file_extension": ".py",
   "mimetype": "text/x-python",
   "name": "python",
   "nbconvert_exporter": "python",
   "pygments_lexer": "ipython3",
   "version": "3.8.5"
  }
 },
 "nbformat": 4,
 "nbformat_minor": 4
}
