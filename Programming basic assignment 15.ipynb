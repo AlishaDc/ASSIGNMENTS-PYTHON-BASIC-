{
 "cells": [
  {
   "cell_type": "markdown",
   "id": "256fb769",
   "metadata": {},
   "source": [
    "# Q1."
   ]
  },
  {
   "cell_type": "code",
   "execution_count": 1,
   "id": "f5f93bfb",
   "metadata": {},
   "outputs": [
    {
     "name": "stdout",
     "output_type": "stream",
     "text": [
      "Enter the number: 100\n",
      "0,35,70\n"
     ]
    }
   ],
   "source": [
    "def generator(n):\n",
    "    for i in range(n+1):\n",
    "        if i % 5 == 0 and i % 7 == 0:\n",
    "            yield i\n",
    "\n",
    "n = int(input('Enter the number: '))\n",
    "result = [str(i) for i in generator(n)]\n",
    "print(','.join(result))"
   ]
  },
  {
   "cell_type": "markdown",
   "id": "9d6ab4a2",
   "metadata": {},
   "source": [
    "# Q2."
   ]
  },
  {
   "cell_type": "code",
   "execution_count": 2,
   "id": "4eddaab5",
   "metadata": {},
   "outputs": [
    {
     "name": "stdout",
     "output_type": "stream",
     "text": [
      "Enter the number: 10\n",
      "0,2,4,6,8,10\n"
     ]
    }
   ],
   "source": [
    "def even_num(n):\n",
    "    for i in range(n+1):\n",
    "        if i % 2 == 0:\n",
    "            yield i\n",
    "            \n",
    "n = int(input('Enter the number: '))\n",
    "result = [str(i) for i in even_num(n)]\n",
    "print(','.join(result))"
   ]
  },
  {
   "cell_type": "markdown",
   "id": "53bbdac5",
   "metadata": {},
   "source": [
    "# Q3."
   ]
  },
  {
   "cell_type": "code",
   "execution_count": 3,
   "id": "8ccfc962",
   "metadata": {},
   "outputs": [
    {
     "name": "stdout",
     "output_type": "stream",
     "text": [
      "Enter a number: 7\n",
      "0,1,1,2,3,5,8,13\n"
     ]
    }
   ],
   "source": [
    "def fibonacci(n):\n",
    "    if n == 0:\n",
    "        return 0\n",
    "    elif n == 1:\n",
    "        return 1\n",
    "    else:\n",
    "        return fibonacci(n-1) + fibonacci(n-2)\n",
    "\n",
    "n = int(input('Enter a number: '))\n",
    "values = [str(fibonacci(i)) for i in range(0, n+1)]\n",
    "print(','.join(values))"
   ]
  },
  {
   "cell_type": "markdown",
   "id": "71e242f5",
   "metadata": {},
   "source": [
    "# Q4."
   ]
  },
  {
   "cell_type": "code",
   "execution_count": 4,
   "id": "3d738ee3",
   "metadata": {},
   "outputs": [
    {
     "name": "stdout",
     "output_type": "stream",
     "text": [
      "Please enter the mail address: john@google.com\n",
      "john\n"
     ]
    }
   ],
   "source": [
    "email = input('Please enter the mail address: ').split('@')\n",
    "print(email[0])"
   ]
  },
  {
   "cell_type": "markdown",
   "id": "78f909f3",
   "metadata": {},
   "source": [
    "# Q5."
   ]
  },
  {
   "cell_type": "code",
   "execution_count": 5,
   "id": "36bb5934",
   "metadata": {},
   "outputs": [
    {
     "name": "stdout",
     "output_type": "stream",
     "text": [
      "25\n",
      "0\n"
     ]
    }
   ],
   "source": [
    "class Shape():\n",
    "    def __init__(self):\n",
    "        pass\n",
    "    \n",
    "    def area(self):\n",
    "        return 0\n",
    "\n",
    "class Square(Shape):\n",
    "    def __init__(self, length=0):\n",
    "        Shape.__init__(self)\n",
    "        self.length = length\n",
    "        \n",
    "    def area(self):\n",
    "        return self.length*self.length\n",
    "\n",
    "ObjSquare = Square(5)\n",
    "print(ObjSquare.area())\n",
    "print(Square().area())"
   ]
  },
  {
   "cell_type": "code",
   "execution_count": null,
   "id": "e96fc424",
   "metadata": {},
   "outputs": [],
   "source": []
  }
 ],
 "metadata": {
  "kernelspec": {
   "display_name": "Python 3 (ipykernel)",
   "language": "python",
   "name": "python3"
  },
  "language_info": {
   "codemirror_mode": {
    "name": "ipython",
    "version": 3
   },
   "file_extension": ".py",
   "mimetype": "text/x-python",
   "name": "python",
   "nbconvert_exporter": "python",
   "pygments_lexer": "ipython3",
   "version": "3.9.7"
  }
 },
 "nbformat": 4,
 "nbformat_minor": 5
}
