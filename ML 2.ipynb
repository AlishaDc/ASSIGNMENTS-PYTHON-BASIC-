{
 "cells": [
  {
   "cell_type": "markdown",
   "id": "5a410747",
   "metadata": {},
   "source": [
    "# Q1.\n",
    "\n",
    "Learning is the process of acquiring new understanding, knowledge, behaviors, skills, values, attitudes, and preferences. Human learning starts at birth (it might even start before) and continues until death as a consequence of ongoing interactions between people and their environment."
   ]
  },
  {
   "cell_type": "markdown",
   "id": "8053262f",
   "metadata": {},
   "source": [
    "# Q2.\n",
    "\n",
    "There are three main types of learning: classical conditioning, operant conditioning, and observational learning.The simple difference is that human beings use their brain, ability to think, memory, while AI machines depend on the data given to them. As we all know that humans learn from past mistakes and intelligent ideas and intelligent attitudes lie at the basis of human intelligence."
   ]
  },
  {
   "cell_type": "markdown",
   "id": "5a75ed9d",
   "metadata": {},
   "source": [
    "# Q3.\n",
    "\n",
    "Machine learning is a form of artificial intelligence (AI) that teaches computers to think in a similar way to how humans do: Learning and improving upon past experiences. It works by exploring data and identifying patterns, and involves minimal human intervention.\n",
    "\n",
    "1. Designing ML systems.\n",
    "2. Researching and implementing ML algorithms and tools.\n",
    "3. Selecting appropriate data sets.\n",
    "4. Picking appropriate data representation methods.\n",
    "5. Identifying differences in data distribution that affects model performance.\n",
    "6. Verifying data quality.\n",
    "7. Transforming and converting data science prototypes.\n",
    "8. Performing statistical analysis.\n",
    "9. Running machine learning tests.\n",
    "10. Using results to improve models.\n",
    "11. Training and retraining systems when needed.\n",
    "12. Extending machine learning libraries.\n",
    "13. Developing machine learning apps according to client requirements."
   ]
  },
  {
   "cell_type": "markdown",
   "id": "bbe90d30",
   "metadata": {},
   "source": [
    "# Q4.\n",
    "\n",
    "A reinforcement learning algorithm, which may also be referred to as an agent, learns by interacting with its environment. The agent receives rewards by performing correctly and penalties for performing incorrectly. The agent learns without intervention from a human by maximizing its reward and minimizing its penalty."
   ]
  },
  {
   "cell_type": "markdown",
   "id": "cd8f4c60",
   "metadata": {},
   "source": [
    "# Q5.\n",
    "\n",
    "Parsing through a universal set of high cardinality, consisting of hypothesis that can be fit over a training data to find the best hypothesis is concept of learning as a search"
   ]
  },
  {
   "cell_type": "markdown",
   "id": "35341389",
   "metadata": {},
   "source": [
    "# Q6.\n",
    "\n",
    "The goal of machine learning, closely coupled with the goal of AI, is to achieve a thorough understanding about the nature of learning process (both human learning and other forms of learning), about the computational aspects of learning behaviors, and to implant the learning capability in computer systems.\n",
    "\n",
    "Human learning patterns are different from one person to another. Having a learning process embedded in people's minds can be a challenge to change. However, with Machine Learning (ML), the learning method can easily be modified simply by choosing a different algorithm."
   ]
  },
  {
   "cell_type": "markdown",
   "id": "e1dd0aad",
   "metadata": {},
   "source": [
    "# Q7.\n",
    "\n",
    "1. Data: Data simply means information. All types and formats of information. Today,there is enormous amount of data produced every second and this data can be used to answer so many questions. There is text data as well as audio-video data, there is structured data as well as unstructured data.\n",
    "1. Task: Generally, Machine Learning tasks are divided into two parts: Supervised Learning And Unsupervised Learning. Supervised Learning is when you have some input data as well as some output data corresponding to the input data. Then you can use Machine Learning to get the relationship between the input and output data and then use that relationship to predict output for the new input. And Unsupervised Learning is when you have only input data.\n",
    "\n",
    "Supervised learning is further divided into two sub sections as Regression and Classification where Regression means you want to predict some continous value for example House Price Prediction and Classification means you want a discrete answer such as yes or no. An example of Classification is, given an image you want to detect whether there is a dog or not in that image.\n",
    "\n",
    "Unsupervised learning is often used for Generation and Clustering. For example, the image given below shows that given the tweets of US President Donald Trump as an input, machine generates more such tweets.\n",
    "\n",
    "1. Model: A model is nothing but a mathematical function which defines relationship between input data and output data.\n",
    "\n",
    "A model can be a simple Linear Function such as y = mx + c or it can be a complex function such as y = sin(cos(ax)) + tan(sin(bx^2 + cx)) .\n",
    "\n",
    "The example that we talked about before, given an image(data), predict if it has a dog or not(task), we have to build a system that answers this question and such system is called a model.\n",
    "\n",
    "1. Loss Function: Although, it's not possible to come up with a model just by looking at the given data, but let's assume, you have come up with a model that you think correctly defines the relationship between input and output. But, two of your friends are solving the same problem and they have come up with a slightly different model, then how do you decide, which model is better? Loss function gives the answer to that question.\n",
    "1. Learning Algorithm: Now, we assumed a hypothetical situation where you and your friends came up with a model for our data and task but that won't happen in reality as there will be hundred and thousands of features in the data and you can't just look at it and propose a model that satisfies the relationship. Instead, you can propose a function such as y = ax^3 + bx^2 + cx and say that I think this should define the relationship between the input x and output y, but you don't know the paramteres a, b and c. So, to identify these parameters for a model, we need a learning algorithm.\n",
    "1. Evaluation: Okay,let's say using the above 5 elements, you've created an ML model to detect the animal in the image. And you want to sell it to some company or just show off to your friends. How do you know that your model is detecting the right animal? You guessed it right! you have to test your model. That's what evaluatio"
   ]
  },
  {
   "cell_type": "markdown",
   "id": "2a60c5fe",
   "metadata": {},
   "source": [
    "# Q8.\n"
   ]
  },
  {
   "cell_type": "code",
   "execution_count": 2,
   "id": "635aee10",
   "metadata": {},
   "outputs": [
    {
     "name": "stdout",
     "output_type": "stream",
     "text": [
      "I have 3 sides\n",
      "I have 4 sides\n",
      "I have 5 sides\n",
      "I have 6 sides\n"
     ]
    }
   ],
   "source": [
    "from abc import ABC, abstractmethod\n",
    " \n",
    "class Polygon(ABC):\n",
    " \n",
    "    @abstractmethod\n",
    "    def noofsides(self):\n",
    "        pass\n",
    "    \n",
    "class Triangle(Polygon):\n",
    " \n",
    "    # overriding abstract method\n",
    "    def noofsides(self):\n",
    "        print(\"I have 3 sides\")\n",
    "\n",
    "class Pentagon(Polygon):\n",
    " \n",
    "    # overriding abstract method\n",
    "    def noofsides(self):\n",
    "        print(\"I have 5 sides\")\n",
    "\n",
    "class Hexagon(Polygon):\n",
    " \n",
    "    # overriding abstract method\n",
    "    def noofsides(self):\n",
    "        print(\"I have 6 sides\")\n",
    "\n",
    "class Quadrilateral(Polygon):\n",
    " \n",
    "    # overriding abstract method\n",
    "    def noofsides(self):\n",
    "        print(\"I have 4 sides\")\n",
    "\n",
    "# Driver code\n",
    "R = Triangle()\n",
    "R.noofsides()\n",
    " \n",
    "K = Quadrilateral()\n",
    "K.noofsides()\n",
    " \n",
    "R = Pentagon()\n",
    "R.noofsides()\n",
    " \n",
    "K = Hexagon()\n",
    "K.noofsides()"
   ]
  },
  {
   "cell_type": "markdown",
   "id": "7298c577",
   "metadata": {},
   "source": [
    "# Q9.\n",
    "\n",
    "Generalization refers to your model's ability to adapt properly to new, previously unseen data, drawn from the same distribution as the one used to create the model. Develop intuition about overfitting. Determine whether a model is good or not. Divide a data set into a training set and a test set.\n",
    "\n",
    "In machine learning, generalization is a definition to demonstrate how well is a trained model to classify or forecast unseen data. Training a generalized machine learning model means, in general, it works for all subset of unseen data. An example is when we train a model to classify between dogs and cats."
   ]
  },
  {
   "cell_type": "markdown",
   "id": "f9a11c9e",
   "metadata": {},
   "source": [
    "# Q10.\n",
    "\n",
    "Classification is the task of predicting a discrete class label. Regression is the task of predicting a continuous quantity.\n",
    "\n",
    "The main difference between Regression and Classification algorithms that Regression algorithms are used to predict the continuous values such as price, salary, age, etc. and Classification algorithms are used to predict/Classify the discrete values such as Male or Female, True or False, Spam or Not Spam, etc."
   ]
  },
  {
   "cell_type": "markdown",
   "id": "f005fed4",
   "metadata": {},
   "source": [
    "# Q11.\n",
    "\n",
    "Regression quantifies the relationship between one or more predictor variable(s) and one outcome variable. For example, it can be used to quantify the relative impacts of age, gender, and diet (the predictor variables) on height (the outcome variable).\n",
    "\n",
    "Regression works by using an independent variable to predict the values of dependent variable. ... The equation can be of the form: y = mx + b where y is the predicted value, m is the gradient of the line and b is the point at which the line strikes the y-axis.\n",
    "\n",
    "Say you’re planning a road trip from Nagpur to Pune with two of your best friends. You start off from Nagpur and you know it’s going to be a 12h drive. While your friends are in charge of the party operations you’re in charge of the all the logistics involved. You have to plan every detail: the schedule, when to stop and where, make sure you get there on time.\n",
    "\n",
    "First item on your checklist? Budget! It’s a 12h — approximately 1200 miles— fun ride, so a total of 24h on the road. The follow-up question: How much money should I allocate for disel?\n",
    "\n",
    "In order to answer this question, you'll use the data you've been collecting so far, and use it to predict how much you are going to spend. The idea is that you can make estimated guesses about the future — your trip to Pune — based on data from the past — the data points you've been laboriously logging.\n",
    "\n",
    "You end up with a mathematical model that describes the relationship between miles driven and money spent to fill the tank."
   ]
  },
  {
   "cell_type": "markdown",
   "id": "af878043",
   "metadata": {},
   "source": [
    "# Q12.\n",
    "\n",
    "It is basically a type of unsupervised learning method. An unsupervised learning method is a method in which we draw references from datasets consisting of input data without labeled responses. Generally, it is used as a process to find meaningful structure, explanatory underlying processes, generative features, and groupings inherent in a set of examples.\n",
    "\n",
    "Clustering is the task of dividing the population or data points into a number of groups such that data points in the same groups are more similar to other data points in the same group and dissimilar to the data points in other groups. It is basically a collection of objects on the basis of similarity and dissimilarity between them."
   ]
  },
  {
   "cell_type": "markdown",
   "id": "3d3804ea",
   "metadata": {},
   "source": [
    "# Q13.\n",
    "\n",
    "i. Machine learning algorithms are used\n",
    "\n",
    "ii. Studying under supervision\n",
    "\n",
    "iii. Studying without supervision\n",
    "\n",
    "iv. Reinforcement learning is a form of learning based on positive reinforcement."
   ]
  },
  {
   "cell_type": "markdown",
   "id": "75c29a69",
   "metadata": {},
   "source": [
    "# i. Machine learning algorithms are used\n",
    "\n",
    "The term ‘machine learning’ is often, incorrectly, interchanged with Artificial Intelligence, but machine learning is actually a sub field/type of AI. Machine learning is also often referred to as predictive analytics, or predictive modelling. Coined by American computer scientist Arthur Samuel in 1959, the term ‘machine learning’ is defined as a “computer’s ability to learn without being explicitly programmed”. At its most basic, machine learning uses programmed algorithms that receive and analyse input data to predict output values within an acceptable range. As new data is fed to these algorithms, they learn and optimise their operations to improve performance, developing ‘intelligence’ over time.\n",
    "\n",
    "There are four types of machine learning algorithms: supervised, semi-supervised, unsupervised and reinforcement.\n",
    "\n",
    "1. Supervised learning In supervised learning, the machine is taught by example. The operator provides the machine learning algorithm with a known dataset that includes desired inputs and outputs, and the algorithm must find a method to determine how to arrive at those inputs and outputs. While the operator knows the correct answers to the problem, the algorithm identifies patterns in data, learns from observations and makes predictions. The algorithm makes predictions and is corrected by the operator – and this process continues until the algorithm achieves a high level of accuracy/performance.\n",
    "Under the umbrella of supervised learning fall: Classification, Regression and Forecasting.\n",
    "\n",
    "1. Classification: In classification tasks, the machine learning program must draw a conclusion from observed values and determine to what category new observations belong. For example, when filtering emails as ‘spam’ or ‘not spam’, the program must look at existing observational data and filter the emails accordingly.\n",
    "\n",
    "2. Regression: In regression tasks, the machine learning program must estimate – and understand – the relationships among variables. Regression analysis focuses on one dependent variable and a series of other changing variables – making it particularly useful for prediction and forecasting.\n",
    "\n",
    "3. Forecasting: Forecasting is the process of making predictions about the future based on the past and present data, and is commonly used to analyse trends."
   ]
  },
  {
   "cell_type": "markdown",
   "id": "c3f2d58e",
   "metadata": {},
   "source": [
    "# 2. Semi-supervised learning\n",
    "\n",
    "Semi-supervised learning is similar to supervised learning, but instead uses both labelled and unlabelled data. Labelled data is essentially information that has meaningful tags so that the algorithm can understand the data, whilst unlabelled data lacks that information. By using this combination, machine learning algorithms can learn to label unlabelled data."
   ]
  },
  {
   "cell_type": "markdown",
   "id": "d447c12d",
   "metadata": {},
   "source": [
    "# 3. Unsupervised learning\n",
    "Here, the machine learning algorithm studies data to identify patterns. There is no answer key or human operator to provide instruction. Instead, the machine determines the correlations and relationships by analysing available data. In an unsupervised learning process, the machine learning algorithm is left to interpret large data sets and address that data accordingly. The algorithm tries to organise that data in some way to describe its structure. This might mean grouping the data into clusters or arranging it in a way that looks more organised.\n",
    "\n",
    "\n",
    "As it assesses more data, its ability to make decisions on that data gradually improves and becomes more refined.\n",
    "\n",
    "Under the umbrella of unsupervised learning, fall:\n",
    "\n",
    "1. Clustering: Clustering involves grouping sets of similar data (based on defined criteria). It’s useful for segmenting data into several groups and performing analysis on each data set to find patterns. Dimension reduction: Dimension reduction reduces the number of variables being considered to find the exact information required."
   ]
  },
  {
   "cell_type": "markdown",
   "id": "5d34da4c",
   "metadata": {},
   "source": [
    "# 4. Reinforcement learning\n",
    "Reinforcement learning focuses on regimented learning processes, where a machine learning algorithm is provided with a set of actions, parameters and end values. By defining the rules, the machine learning algorithm then tries to explore different options and possibilities, monitoring and evaluating each result to determine which one is optimal. Reinforcement learning teaches the machine trial and error. It learns from past experiences and begins to adapt its approach in response to the situation to achieve the best possible result.\n",
    "\n",
    " # iv. Reinforcement learning is a form of learning based on positive reinforcement.\n",
    "Reinforcement learning is a machine learning training method based on rewarding desired behaviors and/or punishing undesired ones. In general, a reinforcement learning agent is able to perceive and interpret its environment, take actions and learn through trial and error.\n",
    "\n",
    "In reinforcement learning, developers devise a method of rewarding desired behaviors and punishing negative behaviors. This method assigns positive values to the desired actions to encourage the agent and negative values to undesired behaviors. This programs the agent to seek long-term and maximum overall reward to achieve an optimal solution.\n",
    "\n",
    "These long-term goals help prevent the agent from stalling on lesser goals. With time, the agent learns to avoid the negative and seek the positive. This learning method has been adopted in artificial intelligence (AI) as a way of directing unsupervised machine learning through rewards and penalties."
   ]
  },
  {
   "cell_type": "code",
   "execution_count": null,
   "id": "708a1fac",
   "metadata": {},
   "outputs": [],
   "source": []
  }
 ],
 "metadata": {
  "kernelspec": {
   "display_name": "Python 3 (ipykernel)",
   "language": "python",
   "name": "python3"
  },
  "language_info": {
   "codemirror_mode": {
    "name": "ipython",
    "version": 3
   },
   "file_extension": ".py",
   "mimetype": "text/x-python",
   "name": "python",
   "nbconvert_exporter": "python",
   "pygments_lexer": "ipython3",
   "version": "3.9.7"
  }
 },
 "nbformat": 4,
 "nbformat_minor": 5
}
