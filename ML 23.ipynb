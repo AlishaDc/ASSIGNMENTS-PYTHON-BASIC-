{
 "cells": [
  {
   "cell_type": "markdown",
   "id": "f16f0078",
   "metadata": {},
   "source": [
    "# Q1.\n",
    "\n",
    "In machine learning classification problems, there are often too many factors on the basis of which the final classification is done. These factors are basically variables called features. The higher the number of features, the harder it gets to visualize the training set and then work on it. Sometimes, most of these features are correlated, and hence redundant. This is where dimensionality reduction algorithms come into play. Dimensionality reduction is the process of reducing the number of random variables under consideration, by obtaining a set of principal variables. It can be divided into feature selection and feature extraction. Basically, it may lead to some amount of data loss. Although, PCA(Principal Component Analysis) tends to find linear correlations between variables, which is sometimes undesirable. Also, PCA fails in cases where mean and covariance are not enough to define datasets. Further, we may not know how many principal components to keep- in practice, some thumb rules are applied."
   ]
  },
  {
   "cell_type": "markdown",
   "id": "7e70d5a5",
   "metadata": {},
   "source": [
    "# Q2.\n",
    "\n",
    "The curse of dimensionality basically means that the error increases with the increase in the number of features. It refers to the fact that algorithms are harder to design in high dimensions and often have a running time exponential in the dimensions. A higher number of dimensions theoretically allow more information to be stored, but practically it rarely helps due to the higher possibility of noise and redundancy in the real-world data."
   ]
  },
  {
   "cell_type": "markdown",
   "id": "b892de34",
   "metadata": {},
   "source": [
    "# Q3.\n",
    "\n",
    "Once a dataset's dimensionality has been reduced using one of the algorithms we discussed, it is almost always impossible to perfectly reverse the operation, because some information gets lost during dimensionality reduction.Moreover, while some algorithms (such as PCA) have a simple reverse transformation procedure that can reconstruct a dataset relatively similar to the original, other algorithms (such as T-SNE) do not Dimensionality reduction (compression of information) is reversible in auto-encoders. Auto-encoder is regular neural network with bottleneck layer in the middle. You have for instance 20 inputs in the first layer, 10 neurons in the middle layer and again 20 neurons in the last layer. When you train such network you force it to compress information to 10 neurons and then uncompress again minimizing error in the last layer(desired output vector equals input vector). When you use well known Back-propagation algorithm to train such network it performs PCA - Principal Component Analysis. PCA returns uncorrelated features. By using more sophisticated algorithm to train auto-encoder you can make it perform nonlinear ICA - Independent Component Analysis. ICA returns statistically independent features. This training algorithm searches for low complexity neural networks with high generalization capability. As a byproduct of regularization you get ICA."
   ]
  },
  {
   "cell_type": "markdown",
   "id": "3a9f8411",
   "metadata": {},
   "source": [
    "# Q4.\n",
    "\n",
    "PCA can at least get rid of useless dimensions, which will significantly reduce the demensionality of most datasets. However, reducing demensionality of datasets without useless dimensions will loose too much info. \"You want to unroll the swiss roll, not squash it\" OF course, you can still do a PCA computation on nonlinear data - but the results will be meaningless, beyond decomposing to the dominant linear modes and provided a global linear representation of the spread of the data."
   ]
  },
  {
   "cell_type": "markdown",
   "id": "49829ccf",
   "metadata": {},
   "source": [
    "# Q6.\n",
    "\n",
    "Vanilla: works only if the dataset fits in memory\n",
    "\n",
    "Incremental: useful for large datasets that don't fit in memory, but is slower than regular. Also useful for online tasks, when you apply PCA on the fly\n",
    "\n",
    "Randomized: useful when you want to considerably reduce dimensionality and the dataset fits in memory\n",
    "\n",
    "Kernel: Useful for nonlinear datasets"
   ]
  },
  {
   "cell_type": "markdown",
   "id": "f7b3ae48",
   "metadata": {},
   "source": [
    "# Q7.\n",
    "Intuitively, a dimensionality reduction algorithm performs well if it eliminates a lot of dimensions from the dataset without losing too much information. One way to measure this is to apply the reverse transformation and measure the reconstruction error. However, not all dimensionality reduction algorithms provide a reverse transformation. Alternatively, if you are using dimensionality reduction as a preprocessing step before another Machine Learning algorithm (e.g., a Random Forest classifier), then you can simply measure the performance of that second algorithm; if dimensionality reduction did not lose too much information, then the algorithm should perform just as well as when using the original dataset."
   ]
  },
  {
   "cell_type": "markdown",
   "id": "a4804e65",
   "metadata": {},
   "source": [
    "# Q8.\n",
    "You can chain two different algorithms, such as PCA to quickly get rid of unnecessary data and then LLE(Locall Linear Embedded) that works slower. This will likely yield the same performance, but with faster results."
   ]
  },
  {
   "cell_type": "code",
   "execution_count": null,
   "id": "4f90ab6d",
   "metadata": {},
   "outputs": [],
   "source": []
  }
 ],
 "metadata": {
  "kernelspec": {
   "display_name": "Python 3 (ipykernel)",
   "language": "python",
   "name": "python3"
  },
  "language_info": {
   "codemirror_mode": {
    "name": "ipython",
    "version": 3
   },
   "file_extension": ".py",
   "mimetype": "text/x-python",
   "name": "python",
   "nbconvert_exporter": "python",
   "pygments_lexer": "ipython3",
   "version": "3.9.7"
  }
 },
 "nbformat": 4,
 "nbformat_minor": 5
}
