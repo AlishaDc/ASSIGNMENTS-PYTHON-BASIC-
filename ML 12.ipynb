{
 "cells": [
  {
   "cell_type": "markdown",
   "id": "c9e9a5da",
   "metadata": {},
   "source": [
    "# Q1.\n",
    "\n",
    "Prior probability is calculated as the probability of an event before an experiment is performed using more data. In simple words, Prior probability is a part of Bayes theorem which is calculated as the probability of an event which is about to occur.\n",
    "\n",
    "Mathematically, it can be defined as the Probability of event A occurring. P(A).\n",
    "\n",
    "We can calculate the probability of getting afflicted with Covid-19 without any additional information would put us in a box and we would simply have to calculate the probability using the entire population of the world."
   ]
  },
  {
   "cell_type": "markdown",
   "id": "7510eb47",
   "metadata": {},
   "source": [
    "# Q2.\n",
    "\n",
    "Posterior probability is calculated as the probability of an event after adjusting the prior probability given the new information.\n",
    "\n",
    "Mathematically, it can be defined as the Probability of event A (P(A)) given that event B has already occurred.\n",
    "\n",
    "In above example, with more information like the information regarding the country and state we wish to talk about for Covid-19 infection, we will change or adjust our probability. In this case, probability calculated after getting more information is posterior probability."
   ]
  },
  {
   "cell_type": "markdown",
   "id": "f9e59e74",
   "metadata": {},
   "source": [
    "# Q3.\n",
    "\n",
    "P(x|c) is the likelihood which is the probability of predictor given class."
   ]
  },
  {
   "cell_type": "markdown",
   "id": "93d83409",
   "metadata": {},
   "source": [
    "# Q4.\n",
    "\n",
    "Naive Bayes classifier is a supervised machine learning model based on the Bayes Theorem. It is one of the probabilistic models that calculates the probability of a data point belonging to a certain class using features\n",
    "\n",
    "It is named so because this algorithm relies on the assumption that all the features are independent amongst each other."
   ]
  },
  {
   "cell_type": "markdown",
   "id": "b783cec2",
   "metadata": {},
   "source": [
    "# Q5.\n",
    "\n",
    "The Bayes Optimal Classifier is a probabilistic model that makes the most probable prediction for a new example. Bayes Optimal Classifier is a probabilistic model that finds the most probable prediction using the training data and space of hypotheses to make a prediction for a new data instance."
   ]
  },
  {
   "cell_type": "markdown",
   "id": "14a3a87c",
   "metadata": {},
   "source": [
    "# Q6.\n",
    "Increasing training data fed to a Bayesian learning model also increases the chances that a hypothesis made will be rejected or failed to reject with high probability."
   ]
  },
  {
   "cell_type": "markdown",
   "id": "17ec1578",
   "metadata": {},
   "source": [
    "# Q7.\n",
    "\n",
    "Consistent learners are those machine learning models that produce zero error over the training data with dimensionality D. In other words, a consistent learning algorithm is required to provide a hypothesis that is consistent with the training data fed"
   ]
  },
  {
   "cell_type": "markdown",
   "id": "58c9aae8",
   "metadata": {},
   "source": [
    "# Q8.\n",
    "1. It is fast and can be used for real time predictions.\n",
    "2. It is easy to implement and comprehend."
   ]
  },
  {
   "cell_type": "markdown",
   "id": "9839344d",
   "metadata": {},
   "source": [
    "# Q9.\n",
    "\n",
    "1. Bayesian classifiers are highly impacted by presence of imbalanced data.\n",
    "\n",
    "2. Since Bayesian classifier starts with an assumption of all features being independent variables, the result can be far from real life in cases. Additionally in terms of mathematics, the algorithm assigns 0 to the target variable class labels that were not present in the training data but are present in test data."
   ]
  },
  {
   "cell_type": "markdown",
   "id": "30316e9a",
   "metadata": {},
   "source": [
    "# Q10.\n",
    "\n",
    "# 1. Text classification\n",
    "Naive Bayes classifier works by calculating the posterior probability for class labels based on the feature values involved. Suppose that we have to do binary classification in the form a subjective or factual statement and the data preprocessing and data transformation has been performed such that the data is in Bag-Of-Words form as a document term matrix.\n",
    "\n",
    "Using the frequency of each word occurence in a document, the posterior probabilities are calculated using the Naive Bayes algorithm equation and the training is done. After training has been performed, the model can be used to calculate posterior probabilities for unseen data and the class label that gets the highest posterior probabilities is assigned as the prediction.\n",
    "\n",
    "Ultimately, the Naive Bayes classifier predicts probability of a data point if it belongs to one class label or another.\n",
    "\n",
    "# 2. Spam filtering\n",
    "Naive Bayes classifier works by calculating the posterior probability for class labels based on the feature values involved. Suppose that we have to do binary classification in the form of SPAM or HAM statement and the data preprocessing and data transformation has been performed such that the data is in Bag-Of-Words form as a document term matrix.\n",
    "\n",
    "Using the frequency of each word occurence in a document, the posterior probabilities are calculated using the Naive Bayes algorithm equation and the training is done. After training has been performed, the model can be used to calculate posterior probabilities for unseen data and the class label that gets the highest posterior probabilities is assigned as the prediction.\n",
    "\n",
    "Ultimately, the Naive Bayes classifier predicts probability of a data point if it belongs to SPAM class label or HAM class label.\n",
    "\n",
    "# 3. Market sentiment analysis\n",
    "Naive Bayes classifier works by calculating the posterior probability for class labels based on the feature values involved. Suppose that we have to do binary classification in the form of POSITIVE or NEGATIVE sentiment statement and the data preprocessing and data transformation has been performed such that the data is in Bag-Of-Words form as a document term matrix.\n",
    "\n",
    "Using the frequency of each word occurence in a document, the posterior probabilities are calculated using the Naive Bayes algorithm equation and the training is done. After training has been performed, the model can be used to calculate posterior probabilities for unseen data and the class label that gets the highest posterior probabilities is assigned as the prediction.\n",
    "\n",
    "Ultimately, the Naive Bayes classifier predicts probability of a data point if it belongs to POSITIVE sentiment class label or NEGATIVE sentiment class label."
   ]
  },
  {
   "cell_type": "code",
   "execution_count": null,
   "id": "ed0306fd",
   "metadata": {},
   "outputs": [],
   "source": []
  }
 ],
 "metadata": {
  "kernelspec": {
   "display_name": "Python 3 (ipykernel)",
   "language": "python",
   "name": "python3"
  },
  "language_info": {
   "codemirror_mode": {
    "name": "ipython",
    "version": 3
   },
   "file_extension": ".py",
   "mimetype": "text/x-python",
   "name": "python",
   "nbconvert_exporter": "python",
   "pygments_lexer": "ipython3",
   "version": "3.9.7"
  }
 },
 "nbformat": 4,
 "nbformat_minor": 5
}
