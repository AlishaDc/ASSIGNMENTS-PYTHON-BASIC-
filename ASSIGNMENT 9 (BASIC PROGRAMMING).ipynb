{
 "cells": [
  {
   "cell_type": "markdown",
   "metadata": {},
   "source": [
    "# Q1."
   ]
  },
  {
   "cell_type": "code",
   "execution_count": 6,
   "metadata": {},
   "outputs": [
    {
     "name": "stdout",
     "output_type": "stream",
     "text": [
      "Enter a number: 89\n",
      "It is a Disarium Number.\n"
     ]
    }
   ],
   "source": [
    "num=int(input(\"Enter a number: \"))\n",
    "sum =0\n",
    "j = 1\n",
    "temp = num\n",
    "while temp !=0:\n",
    "    rem = temp % 10\n",
    "    sum = sum*10 + rem\n",
    "    temp =int(temp/10)\n",
    "temp = sum\n",
    "sum=0\n",
    "while temp != 0:\n",
    "    rem = temp % 10\n",
    "    sum = sum + pow(rem,j)\n",
    "    temp = int(temp/10)\n",
    "    j = j+1\n",
    "if sum == num:\n",
    "    print(\"It is a Disarium Number.\")\n",
    "else:\n",
    "    print(\"It is Not a Disarium Number.\")"
   ]
  },
  {
   "cell_type": "markdown",
   "metadata": {},
   "source": [
    "# Q2."
   ]
  },
  {
   "cell_type": "code",
   "execution_count": 14,
   "metadata": {},
   "outputs": [
    {
     "name": "stdout",
     "output_type": "stream",
     "text": [
      "The disarium numbers between 1 and 100 are : \n",
      "1\n",
      "2\n",
      "3\n",
      "4\n",
      "5\n",
      "6\n",
      "7\n",
      "8\n",
      "9\n",
      "89\n"
     ]
    }
   ],
   "source": [
    "def lengthcalculation(n):\n",
    "    length = 0\n",
    "    while(n != 0):\n",
    "        length = length + 1\n",
    "        n = n//10\n",
    "    return length\n",
    "def digit_sum(num):\n",
    "    remain = sum = 0\n",
    "    len = lengthcalculation(num)\n",
    "    while(num > 0):\n",
    "        remain = num%10\n",
    "        sum = sum + (remain**len)\n",
    "        num = num//10\n",
    "        len = len - 1\n",
    "    return sum\n",
    "result = 0\n",
    "print(\"The disarium numbers between 1 and 100 are : \")\n",
    "for i in range(1, 101):\n",
    "   result = digit_sum(i)\n",
    "   if(result == i):\n",
    "      print(i)"
   ]
  },
  {
   "cell_type": "markdown",
   "metadata": {},
   "source": [
    "# Q3."
   ]
  },
  {
   "cell_type": "code",
   "execution_count": 3,
   "metadata": {},
   "outputs": [
    {
     "name": "stdout",
     "output_type": "stream",
     "text": [
      "Enter the number : 10\n",
      "10 is happy number\n"
     ]
    }
   ],
   "source": [
    "num = int(input('Enter the number : '))\n",
    "temp = num\n",
    "while sum!=1 and sum!=4:\n",
    "    sum = 0\n",
    "    while temp!=0:\n",
    "        rem =int(temp%10)\n",
    "        sum = sum + rem*rem\n",
    "        temp = temp/10\n",
    "    temp = sum    \n",
    "if sum == 1:\n",
    "    print(num, 'is happy number')\n",
    "else:\n",
    "    print(num, 'is not a happy number')"
   ]
  },
  {
   "cell_type": "markdown",
   "metadata": {},
   "source": [
    "# Q4."
   ]
  },
  {
   "cell_type": "code",
   "execution_count": 2,
   "metadata": {},
   "outputs": [
    {
     "name": "stdout",
     "output_type": "stream",
     "text": [
      "The list of happy numbers between 1 and 100 are : \n",
      "1\n",
      "7\n",
      "10\n",
      "13\n",
      "19\n",
      "23\n",
      "28\n",
      "31\n",
      "32\n",
      "44\n",
      "49\n",
      "68\n",
      "70\n",
      "79\n",
      "82\n",
      "86\n",
      "91\n",
      "94\n",
      "97\n",
      "100\n"
     ]
    }
   ],
   "source": [
    "def checkhappynum(num):\n",
    "    rem = sum = 0\n",
    "    while(num > 0):\n",
    "        rem = num%10\n",
    "        sum = sum + (rem*rem)\n",
    "        num = num//10\n",
    "    return sum\n",
    "print(\"The list of happy numbers between 1 and 100 are : \")\n",
    "for i in range(1, 101):\n",
    "    result = i\n",
    "    \n",
    "    while(result != 1 and result != 4):\n",
    "        result = checkhappynum(result)\n",
    "    if result == 1:\n",
    "        print(i)"
   ]
  },
  {
   "cell_type": "markdown",
   "metadata": {},
   "source": [
    "# Q5."
   ]
  },
  {
   "cell_type": "code",
   "execution_count": 11,
   "metadata": {},
   "outputs": [
    {
     "name": "stdout",
     "output_type": "stream",
     "text": [
      "Pronic numbers between 1 to 100: \n",
      "2\n",
      "6\n",
      "12\n",
      "20\n",
      "30\n",
      "42\n",
      "56\n",
      "72\n",
      "90\n"
     ]
    }
   ],
   "source": [
    "def pronicnumber(num):\n",
    "    result = False\n",
    "    for j in range(1,num+1):\n",
    "        if (j*(j+1)) ==num:\n",
    "            result =True\n",
    "            break\n",
    "    return result\n",
    "print('Pronic numbers between 1 to 100: ')\n",
    "for i in range(1,101):\n",
    "    if pronicnumber(i):\n",
    "        print(i)"
   ]
  },
  {
   "cell_type": "code",
   "execution_count": null,
   "metadata": {},
   "outputs": [],
   "source": []
  }
 ],
 "metadata": {
  "kernelspec": {
   "display_name": "Python 3",
   "language": "python",
   "name": "python3"
  },
  "language_info": {
   "codemirror_mode": {
    "name": "ipython",
    "version": 3
   },
   "file_extension": ".py",
   "mimetype": "text/x-python",
   "name": "python",
   "nbconvert_exporter": "python",
   "pygments_lexer": "ipython3",
   "version": "3.8.5"
  }
 },
 "nbformat": 4,
 "nbformat_minor": 4
}
