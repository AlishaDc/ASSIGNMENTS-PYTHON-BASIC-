{
 "cells": [
  {
   "cell_type": "markdown",
   "metadata": {},
   "source": [
    "# Q1.\n",
    "\n",
    "Pythons OOP allows us to develop applications using an object-oriented approach. The oops concept focuses on writing the reusable code. It is a widespread technique to solve the problem by creating objects.OOP languages also allows us to break down our software into bite-sized problems that we can solve - one object at a time. "
   ]
  },
  {
   "cell_type": "markdown",
   "metadata": {},
   "source": [
    "# Q2.\n",
    "\n",
    "Inheritance happens when an object is qualified, and involves searching an attribute definition tree (one or more namespaces). Every time you use an expression of the form object.attr where object is an instance or class object, Python searches the namespace tree at and above object, for the first attr it can find."
   ]
  },
  {
   "cell_type": "markdown",
   "metadata": {},
   "source": [
    "# Q3.\n",
    "\n",
    "Class Object - when we create a class , a class object is created.The class name itself is class object. we can access class variable using this class name\n",
    "\n",
    "Instance Object - when we access class with paranthesis like test(), this will create an instance of a class. we can have n numbers of instance objects for same class."
   ]
  },
  {
   "cell_type": "code",
   "execution_count": 2,
   "metadata": {},
   "outputs": [
    {
     "name": "stdout",
     "output_type": "stream",
     "text": [
      "10\n"
     ]
    }
   ],
   "source": [
    "#CLASS OBJECT\n",
    "\n",
    "class test:\n",
    "    x=10\n",
    "    def __init__(self,a,b):\n",
    "        self.a = a\n",
    "        self.b = b\n",
    "print(test.x)        \n",
    " #using this text.x we can access its class variables,We can have only one class objects for a class."
   ]
  },
  {
   "cell_type": "code",
   "execution_count": 3,
   "metadata": {},
   "outputs": [
    {
     "data": {
      "text/plain": [
       "7"
      ]
     },
     "execution_count": 3,
     "metadata": {},
     "output_type": "execute_result"
    }
   ],
   "source": [
    "#INSTANCE OBJECT\n",
    "\n",
    "inst_obj = test(7,9)\n",
    "inst_obj.a"
   ]
  },
  {
   "cell_type": "markdown",
   "metadata": {},
   "source": [
    "# Q4.\n",
    "\n",
    "The 'self' is mostly used as first argument function, basically we can use anyword but 'self' is received as the first argument of the class method function.            \n",
    "The keyword self represents the instance of a class and binds the attributes with the given arguments."
   ]
  },
  {
   "cell_type": "markdown",
   "metadata": {},
   "source": [
    "# Q5.\n",
    "\n",
    "'__init__' is a reseved method in python classes. It is called as a constructor in object oriented terminology. This method is called when an object is created from a class and it allows the class to initialize the attributes of the class."
   ]
  },
  {
   "cell_type": "code",
   "execution_count": 4,
   "metadata": {},
   "outputs": [
    {
     "name": "stdout",
     "output_type": "stream",
     "text": [
      "10 20\n"
     ]
    }
   ],
   "source": [
    "class car:\n",
    "    def __init__(self,blue,red):\n",
    "        self.blue = blue\n",
    "        self.red = red\n",
    "obj=car(10,20)\n",
    "print(obj.blue,obj.red)"
   ]
  },
  {
   "cell_type": "markdown",
   "metadata": {},
   "source": [
    "# Q6.\n",
    "\n",
    "To Create instances of class-\n",
    "step 1 - Create a class.                     \n",
    "step 2 - Call the class using the class name and assign it to a variale(object variable).         \n",
    "step 3 - Pass in whatever arguments its init aspects.                 "
   ]
  },
  {
   "cell_type": "code",
   "execution_count": 5,
   "metadata": {},
   "outputs": [
    {
     "name": "stdout",
     "output_type": "stream",
     "text": [
      "True\n"
     ]
    }
   ],
   "source": [
    "class car:\n",
    "    car_count = 0\n",
    "    \n",
    "    def __init__(self,name,color):\n",
    "        self.name=name\n",
    "        self.color=color\n",
    "        car.car_count +=1\n",
    "        \n",
    "obj_class = car('BMW','Red')\n",
    "print(isinstance(obj_class,car))"
   ]
  },
  {
   "cell_type": "markdown",
   "metadata": {},
   "source": [
    "# Q7.\n",
    "\n",
    "Classes are created by keyword class. Attributes are the variables that belong to a class. Attributes can be accesed using a dot(.)"
   ]
  },
  {
   "cell_type": "code",
   "execution_count": 6,
   "metadata": {},
   "outputs": [],
   "source": [
    "#Example\n",
    "class MyNewclass:\n",
    "    \"This is a docstring that I have created a new class\"\n",
    "    pass"
   ]
  },
  {
   "cell_type": "markdown",
   "metadata": {},
   "source": [
    "# Q8. \n",
    "\n",
    "A superclass is the class from which many subclasses can be created. The subclasses inherit the characteristics of a superclass. The superclass is also known as the parent class or base class.Superclasses are sometimes called ancestors as well."
   ]
  },
  {
   "cell_type": "code",
   "execution_count": 8,
   "metadata": {},
   "outputs": [
    {
     "name": "stdout",
     "output_type": "stream",
     "text": [
      "<__main__.Student object at 0x00000233B8792730> <class '__main__.Student'>\n",
      "<__main__.Professor object at 0x00000233B8792700> <class '__main__.Professor'>\n",
      "Hi, I am Rose\n"
     ]
    }
   ],
   "source": [
    "class Student:\n",
    "    \n",
    "    def __init__(self, name):\n",
    "        self.name = name\n",
    "        \n",
    "    def say_hi(self):\n",
    "        print(\"Hi, I am \" + self.name)\n",
    "        \n",
    "class Professor(Student):\n",
    "    pass\n",
    "\n",
    "x = Student(\"Mince\")\n",
    "y = Professor(\"Rose\")\n",
    "\n",
    "print(x, type(x))\n",
    "print(y, type(y))\n",
    "\n",
    "y.say_hi()"
   ]
  }
 ],
 "metadata": {
  "kernelspec": {
   "display_name": "Python 3",
   "language": "python",
   "name": "python3"
  },
  "language_info": {
   "codemirror_mode": {
    "name": "ipython",
    "version": 3
   },
   "file_extension": ".py",
   "mimetype": "text/x-python",
   "name": "python",
   "nbconvert_exporter": "python",
   "pygments_lexer": "ipython3",
   "version": "3.8.5"
  }
 },
 "nbformat": 4,
 "nbformat_minor": 4
}
