{
 "cells": [
  {
   "cell_type": "markdown",
   "id": "d8773873",
   "metadata": {},
   "source": [
    "# Q1.\n",
    "\n",
    "Clustering is a unsupervised approach. it is a method of identifing similar object and kipping them together.clustering is find a structute or pattern in a collection of unlabled data.The goal of clustering is to determine the intrensic groups of unlabled data.Few algorithms of clusterings are:\n",
    "\n",
    "1. k-mean clustering\n",
    "2. Herirachical clustering\n",
    "3. DBSCAN"
   ]
  },
  {
   "cell_type": "markdown",
   "id": "dc348cc5",
   "metadata": {},
   "source": [
    "# Q2.\n",
    "\n",
    "Application of clustering algorithm are:-\n",
    "\n",
    "1. for customer segment\n",
    "2. for data analysis\n",
    "3. As a dimensionality reduction technique\n",
    "4. for anamoly detection\n",
    "5. to segment an image"
   ]
  },
  {
   "cell_type": "markdown",
   "id": "30c6b6c9",
   "metadata": {},
   "source": [
    "# Q3.\n",
    "\n",
    "The k-mean is a clusterring approach in which a data is grouped into k-distinct non-overlapping cluster based on the distance from the k-centre. the value of k is specified first then algorithm assign the point to exactly one cluster.The optimum value of k is obtained by using the elbow method(wcc or inertia)."
   ]
  },
  {
   "cell_type": "markdown",
   "id": "7c0f651d",
   "metadata": {},
   "source": [
    "# Q5.\n",
    "\n",
    "Two examples of clustering algorithms that can handle large datasets are.\n",
    "\n",
    "1. Identifying fraudulent or criminal activity.\n",
    "2. Classifying network traffic"
   ]
  },
  {
   "cell_type": "markdown",
   "id": "95344bf1",
   "metadata": {},
   "source": [
    "# Q7.\n",
    "\n",
    "Anamoly detection is similar to the novelty detection but not completely similar. the novelty detection is mainly concerned to identify the unabsorbed pattern in the obsrvation."
   ]
  },
  {
   "cell_type": "markdown",
   "id": "b7ed4060",
   "metadata": {},
   "source": [
    "# Q8.\n",
    "\n",
    "A Gaussian mixture model is a probabilistic model that assumes all the data points are generated from a mixture of a finite number of Gaussian distributions with unknown parameters. Gaussian Mixture models are used for representing Normally Distributed subpopulations within an overall population. The advantage of Mixture models is that they do not require which subpopulation a data point belongs to. It allows the model to learn the subpopulations automatically."
   ]
  },
  {
   "cell_type": "markdown",
   "id": "c6530bd9",
   "metadata": {},
   "source": [
    "# Q9.\n",
    "\n",
    "How can a Gaussian mixture model be used for clustering? Gaussian mixture models (GMMs) are often used for data clustering. You can use GMMs to perform either hard clustering or soft clustering on query data. To perform hard clustering, the GMM assigns query data points to the multivariate normal components that maximize the component posterior probability, given the data."
   ]
  },
  {
   "cell_type": "code",
   "execution_count": null,
   "id": "57e310cc",
   "metadata": {},
   "outputs": [],
   "source": []
  }
 ],
 "metadata": {
  "kernelspec": {
   "display_name": "Python 3 (ipykernel)",
   "language": "python",
   "name": "python3"
  },
  "language_info": {
   "codemirror_mode": {
    "name": "ipython",
    "version": 3
   },
   "file_extension": ".py",
   "mimetype": "text/x-python",
   "name": "python",
   "nbconvert_exporter": "python",
   "pygments_lexer": "ipython3",
   "version": "3.9.7"
  }
 },
 "nbformat": 4,
 "nbformat_minor": 5
}
